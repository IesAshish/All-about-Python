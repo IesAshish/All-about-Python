{
 "cells": [
  {
   "cell_type": "markdown",
   "id": "208d46f7",
   "metadata": {},
   "source": [
    "###### 1.Is the Python Standard Library included with PyInputPlus?"
   ]
  },
  {
   "cell_type": "code",
   "execution_count": null,
   "id": "4de5def1",
   "metadata": {},
   "outputs": [],
   "source": [
    "PyInputPlus is not a Python Standard Library, hence we need to install it separetaly using pip install."
   ]
  },
  {
   "cell_type": "markdown",
   "id": "3756b169",
   "metadata": {},
   "source": [
    "##### 2. Why is PyInputPlus commonly imported with import pyinputplus as pypi?"
   ]
  },
  {
   "cell_type": "code",
   "execution_count": null,
   "id": "067c1db3",
   "metadata": {},
   "outputs": [],
   "source": [
    " PyInputPlus commonly imported with import pyinputplus as pypi because it saves us from typing PyInputPlus each time we want to call a PyInputPlus function. So, pypi saves our time as well."
   ]
  },
  {
   "cell_type": "markdown",
   "id": "29582b5f",
   "metadata": {},
   "source": [
    "##### 3. How do you distinguish between inputInt() and inputFloat()?"
   ]
  },
  {
   "cell_type": "code",
   "execution_count": null,
   "id": "a6392ca1",
   "metadata": {},
   "outputs": [],
   "source": [
    "inputInt()- Ensures the user to enters a interger value and returns an int value only.\n",
    "inputFloat()- Prompts the user to enter a floating point number value. Returns the number as a float.\n"
   ]
  },
  {
   "cell_type": "markdown",
   "id": "142cf37c",
   "metadata": {},
   "source": [
    "##### 4. Using PyInputPlus, how do you ensure that the user enters a whole number between 0 and 99?"
   ]
  },
  {
   "cell_type": "code",
   "execution_count": 3,
   "id": "b5da2d54",
   "metadata": {},
   "outputs": [],
   "source": [
    "import pyinputplus as pypi\n",
    "pypi.inputInt(\"Enter a number\", min=0, max = 99)\n"
   ]
  },
  {
   "cell_type": "markdown",
   "id": "08705b92",
   "metadata": {},
   "source": [
    "##### 5. What is transferred to the keyword arguments allowRegexes and blockRegexes?"
   ]
  },
  {
   "cell_type": "code",
   "execution_count": null,
   "id": "a46f7c57",
   "metadata": {},
   "outputs": [],
   "source": [
    "The allowRegexes and blockRegexes keyword arguments take a list of regular expression strings to determine what the pyinputplus function will accept or reject as valid inputs.\n",
    "However if we specify both an allowRegexes and blockRegexes argument, the allow list overrides the block list."
   ]
  },
  {
   "cell_type": "markdown",
   "id": "ad90f859",
   "metadata": {},
   "source": [
    "##### 6. If a blank input is entered three times, what does inputStr(limit=3) do?"
   ]
  },
  {
   "cell_type": "code",
   "execution_count": null,
   "id": "9d2afc08",
   "metadata": {},
   "outputs": [],
   "source": [
    "After executing 3 times, it will throw RetryLimitException."
   ]
  },
  {
   "cell_type": "markdown",
   "id": "fa618efb",
   "metadata": {},
   "source": [
    "##### 7. If blank input is entered three times, what does inputStr(limit=3, default=\"Hello\") do?\n"
   ]
  },
  {
   "cell_type": "code",
   "execution_count": null,
   "id": "c4385bcc",
   "metadata": {},
   "outputs": [],
   "source": [
    "After entering blank input three times, now it will not throw RetryLimitException as we have set default=\"Hello\", so it will give \"Hello\" only."
   ]
  }
 ],
 "metadata": {
  "kernelspec": {
   "display_name": "Python 3 (ipykernel)",
   "language": "python",
   "name": "python3"
  },
  "language_info": {
   "codemirror_mode": {
    "name": "ipython",
    "version": 3
   },
   "file_extension": ".py",
   "mimetype": "text/x-python",
   "name": "python",
   "nbconvert_exporter": "python",
   "pygments_lexer": "ipython3",
   "version": "3.9.7"
  }
 },
 "nbformat": 4,
 "nbformat_minor": 5
}
