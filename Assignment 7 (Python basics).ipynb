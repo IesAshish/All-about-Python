{
 "cells": [
  {
   "cell_type": "code",
   "execution_count": null,
   "id": "a32b020c",
   "metadata": {},
   "outputs": [],
   "source": [
    "1. What is the name of the feature responsible for generating Regex objects?\n",
    "re.compile() is responsible for generating regex object."
   ]
  },
  {
   "cell_type": "code",
   "execution_count": null,
   "id": "c2f0eca0",
   "metadata": {},
   "outputs": [],
   "source": [
    "2. Why do raw strings often appear in Regex objects?\n",
    "The raw string i.e. r is different from a regular string, it won’t interpret the \\ character as an escape character."
   ]
  },
  {
   "cell_type": "code",
   "execution_count": null,
   "id": "2304b77d",
   "metadata": {},
   "outputs": [],
   "source": [
    "3. What is the return value of the search() method?\n",
    "search() method scan through string looking for a match to the pattern , returns a match object, or None if no match is found."
   ]
  },
  {
   "cell_type": "code",
   "execution_count": null,
   "id": "da1c59d4",
   "metadata": {},
   "outputs": [],
   "source": [
    "4. From a Match item, how do you get the actual strings that match the pattern?\n",
    "The group(0) method returns the actual strings that match the pattern"
   ]
  },
  {
   "cell_type": "code",
   "execution_count": null,
   "id": "9843fdd2",
   "metadata": {},
   "outputs": [],
   "source": [
    "5. In the regex which created from the r\"(\\d\\d\\d)-(\\d\\d\\d-\\d\\d\\d\\d)\", what does group zero cover?\n",
    "Group 2? Group 1?\n",
    "Group(0) covers entire match.\n",
    "Group(1) covers first parentheses\n",
    "Group(2) covers second parentheses"
   ]
  },
  {
   "cell_type": "code",
   "execution_count": null,
   "id": "148cf2a8",
   "metadata": {},
   "outputs": [],
   "source": [
    "6. In standard expression syntax, parentheses and intervals have distinct meanings. How can you tell\n",
    "a regex that you want it to fit real parentheses and periods?"
   ]
  },
  {
   "cell_type": "code",
   "execution_count": null,
   "id": "7f3990ee",
   "metadata": {},
   "outputs": [],
   "source": [
    "7. The findall() method returns a string list or a list of string tuples. What causes it to return one of\n",
    "the two options?\n",
    "If one or more capturing groups are present in the pattern, return a list of groups this will be a list of tuples if the pattern has more than one group"
   ]
  },
  {
   "cell_type": "code",
   "execution_count": null,
   "id": "7df9c1b9",
   "metadata": {},
   "outputs": [],
   "source": [
    "8. In standard expressions, what does the | character mean?\n",
    "Or(|) symbol works as the or operator meaning it checks whether the pattern before or after the or symbol is present in the string or not."
   ]
  },
  {
   "cell_type": "code",
   "execution_count": null,
   "id": "7370d3dc",
   "metadata": {},
   "outputs": [],
   "source": [
    "9. In regular expressions, what does the ? character stand for?\n",
    "Question mark(?) checks if the string before the question mark in the regex occurs at least once or not at all\n"
   ]
  },
  {
   "cell_type": "code",
   "execution_count": null,
   "id": "79286e29",
   "metadata": {},
   "outputs": [],
   "source": [
    "10. In regular expression, what is the difference between the + and * characters?\n",
    "Star (*) symbol matches zero or more occurrences of the regex preceding the * symbol\n",
    "Plus (+) symbol matches one or more occurrences of the regex preceding the + symbol."
   ]
  },
  {
   "cell_type": "code",
   "execution_count": null,
   "id": "94d770c7",
   "metadata": {},
   "outputs": [],
   "source": [
    "11. What is the difference between {4} and {4,5} in regular expression?\n",
    "The {4} matches exactly four instances of the preceding group. The {4,5} matches between four and five instances."
   ]
  },
  {
   "cell_type": "code",
   "execution_count": null,
   "id": "4537527e",
   "metadata": {},
   "outputs": [],
   "source": [
    "12. What do you mean by the \\d, \\w, and \\s shorthand character classes signify in regular\n",
    "expressions?\n",
    "\\d stands for digits [0-9].\n",
    "\\w stands for any alphanumeric characters i.e. [a-zA-Z0-9_].\n",
    "\\s stads for any Whitespace character."
   ]
  },
  {
   "cell_type": "code",
   "execution_count": null,
   "id": "38b781b3",
   "metadata": {},
   "outputs": [],
   "source": [
    "13. What do means by \\D, \\W, and \\S shorthand character classes signify in regular expressions?\n",
    "\\D stands for any non-digit characters[^0-9].\n",
    "\\W stands for any non alphanumeric characters.\n",
    "\\S stands for any non-whitespace character."
   ]
  },
  {
   "cell_type": "code",
   "execution_count": null,
   "id": "df512815",
   "metadata": {},
   "outputs": [],
   "source": [
    "14. What is the difference between .* and .*?\n",
    "(.*) matches \"anything\" i.e. it uses greedy mode means it will always try to match as much  text as possble.\n",
    "(.*?) matches any and all text in a non-greedy fashion."
   ]
  },
  {
   "cell_type": "code",
   "execution_count": null,
   "id": "d451d3ea",
   "metadata": {},
   "outputs": [],
   "source": [
    "15. What is the syntax for matching both numbers and lowercase letters with a character class?\n",
    "\n",
    "The follwing sytax will give us the required answer: [a-z0-9]"
   ]
  },
  {
   "cell_type": "code",
   "execution_count": null,
   "id": "a4992f63",
   "metadata": {},
   "outputs": [],
   "source": [
    "16. What is the procedure for making a normal expression in regax case insensitive?\n",
    "Passing re.IGNORECASE or re.I as a second argument to re.compile() will make normal expression in regex insensitive."
   ]
  },
  {
   "cell_type": "code",
   "execution_count": null,
   "id": "35c3db47",
   "metadata": {},
   "outputs": [],
   "source": [
    "17. What does the . character normally match? What does it match if re.DOTALL is passed as 2nd argument in re.compile()?\n",
    "The (.dot) character in regex is called the \"WildCard\" and will match any character except for new line.\n",
    "When we pass re.DOTALL as a second argument to re.compile() then it will matches everything including the new lines."
   ]
  },
  {
   "cell_type": "code",
   "execution_count": null,
   "id": "d56c8610",
   "metadata": {},
   "outputs": [],
   "source": [
    "18. If numRegex = re.compile(r\"\\d+\"), what will numRegex.sub(\"X\", \"11 drummers, 10 pipers, five rings, 4 hen\") return?\n",
    "\n",
    "'X drummers, X pipers, five rings, X hen'"
   ]
  },
  {
   "cell_type": "code",
   "execution_count": null,
   "id": "c205e981",
   "metadata": {},
   "outputs": [],
   "source": [
    "19. What does passing re.VERBOSE as the 2nd argument to re.compile() allow to do?\n",
    "The re.VERBOSE argument allows us to add whitespace and comments to the string passed to re.compile()."
   ]
  },
  {
   "cell_type": "code",
   "execution_count": null,
   "id": "99bd71b4",
   "metadata": {},
   "outputs": [],
   "source": [
    "20. How would you write a regex that match a number with comma for every three digits? It must\n",
    "match the given following:\n",
    "re.compile(r'^\\d{1,3}(,\\d{3})*$') "
   ]
  },
  {
   "cell_type": "code",
   "execution_count": null,
   "id": "9ad2ab1d",
   "metadata": {},
   "outputs": [],
   "source": [
    "21. How would you write a regex that matches the full name of someone whose last name is\n",
    "Watanabe?\n",
    "name = re.compile(r\"[A-Z][a-z]*\\sWatanabe\")\n",
    "m1 = name.match(\"Haruto Watanabe\")\n",
    "m1.group()"
   ]
  },
  {
   "cell_type": "code",
   "execution_count": null,
   "id": "94f088d1",
   "metadata": {},
   "outputs": [],
   "source": [
    "22. How would you write a regex that matches a sentence where the first word is either Alice, Bob,\n",
    "or Carol; the second word is either eats, pets, or throws; the third word is apples, cats, or baseballs;\n",
    "and the sentence ends with a period? This regex should be case-insensitive.\n",
    "\n",
    "test=re.compile(r\"(Alice|Bob|Carol)\\s(eats|pets|throws)\\s(apples|cats|baseballs)\\.\", re.IGNORECASE)\n",
    "m2 =test.findall(\"BOB EATS CATS.\")\n",
    "m2"
   ]
  }
 ],
 "metadata": {
  "kernelspec": {
   "display_name": "Python 3 (ipykernel)",
   "language": "python",
   "name": "python3"
  },
  "language_info": {
   "codemirror_mode": {
    "name": "ipython",
    "version": 3
   },
   "file_extension": ".py",
   "mimetype": "text/x-python",
   "name": "python",
   "nbconvert_exporter": "python",
   "pygments_lexer": "ipython3",
   "version": "3.9.7"
  }
 },
 "nbformat": 4,
 "nbformat_minor": 5
}
