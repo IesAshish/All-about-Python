{
 "cells": [
  {
   "cell_type": "code",
   "execution_count": 1,
   "id": "df0948d9",
   "metadata": {},
   "outputs": [],
   "source": [
    "import numpy as np"
   ]
  },
  {
   "cell_type": "markdown",
   "id": "69fd297e",
   "metadata": {},
   "source": [
    "##### 1. Write a Python Program to Add Two Matrices?"
   ]
  },
  {
   "cell_type": "code",
   "execution_count": 23,
   "id": "dc235493",
   "metadata": {},
   "outputs": [
    {
     "name": "stdout",
     "output_type": "stream",
     "text": [
      "\n",
      "\n",
      "Matrix for a is [[0 1 2]\n",
      " [1 2 3]\n",
      " [2 3 4]]\n",
      "Matric for b is [[0 0 0]\n",
      " [0 1 2]\n",
      " [0 2 4]]\n",
      "Sum of two matrix is  [[0 1 2]\n",
      " [1 3 5]\n",
      " [2 5 8]]\n"
     ]
    }
   ],
   "source": [
    "#Method \n",
    "a = np.mat(np.fromfunction(lambda i,j: i+j, (3,3), dtype = int))\n",
    "b = np.mat(np.fromfunction(lambda k,l: k*l, (3,3), dtype = int))\n",
    "print(\"\\n\")\n",
    "print(\"Matrix for a is\", a)\n",
    "print(\"Matric for b is\", b)\n",
    "print(\"Sum of two matrix is \", a+b )\n"
   ]
  },
  {
   "cell_type": "code",
   "execution_count": 28,
   "id": "e59e89fe",
   "metadata": {},
   "outputs": [
    {
     "data": {
      "text/plain": [
       "array([[-1.00086961, -0.81797169,  2.04108762,  1.82777591,  0.44233699],\n",
       "       [ 2.69872504, -0.63044239,  1.96607514, -0.63211395, -1.99181731],\n",
       "       [-1.21049946, -2.28448725,  0.28856429, -1.54446805, -1.18426984]])"
      ]
     },
     "execution_count": 28,
     "metadata": {},
     "output_type": "execute_result"
    }
   ],
   "source": [
    "# Method 2\n",
    "mat1 = np.random.randn(3,5)\n",
    "mat2 = np.random.randn(3,5)\n",
    "np.add(mat1,mat2)"
   ]
  },
  {
   "cell_type": "markdown",
   "id": "33674450",
   "metadata": {},
   "source": [
    "##### 2. Write a Python Program to Multiply Two Matrices?"
   ]
  },
  {
   "cell_type": "code",
   "execution_count": 32,
   "id": "9cb3e501",
   "metadata": {},
   "outputs": [
    {
     "name": "stdout",
     "output_type": "stream",
     "text": [
      "\n",
      "\n",
      "Multiplication of matrix a and b is  [[ 10  -2 -14 -26]\n",
      " [ 13  -5 -23 -41]\n",
      " [ 16  -8 -32 -56]\n",
      " [ 19 -11 -41 -71]]\n"
     ]
    }
   ],
   "source": [
    "a = np.array(np.fromfunction(lambda i,j: i+ 2*j, (4,3), dtype = int))\n",
    "b = np.array(np.fromfunction(lambda i,j: i- 2*j, (3,4), dtype = int))\n",
    "print(\"\\n\")\n",
    "c = a@b\n",
    "print(\"Multiplication of matrix a and b is \", c)"
   ]
  },
  {
   "cell_type": "markdown",
   "id": "708e87fc",
   "metadata": {},
   "source": [
    "##### 3. Write a Python Program to Transpose a Matrix?"
   ]
  },
  {
   "cell_type": "code",
   "execution_count": 35,
   "id": "33abe3dc",
   "metadata": {},
   "outputs": [
    {
     "data": {
      "text/plain": [
       "matrix([[0, 1, 2, 3],\n",
       "        [2, 3, 4, 5],\n",
       "        [4, 5, 6, 7]])"
      ]
     },
     "execution_count": 35,
     "metadata": {},
     "output_type": "execute_result"
    }
   ],
   "source": [
    "a = np.mat(np.fromfunction(lambda i,j: i+ 2*j, (4,3), dtype = int))\n",
    "a.T"
   ]
  },
  {
   "cell_type": "markdown",
   "id": "ab9f5d75",
   "metadata": {},
   "source": [
    "##### 4. Write a Python Program to Sort Words in Alphabetic Order?"
   ]
  },
  {
   "cell_type": "code",
   "execution_count": 48,
   "id": "57f41756",
   "metadata": {},
   "outputs": [
    {
     "name": "stdout",
     "output_type": "stream",
     "text": [
      "Enter your sentence: my name is ashish\n",
      "ashish\n",
      "is\n",
      "my\n",
      "name\n"
     ]
    }
   ],
   "source": [
    "sentence = input(\"Enter your sentence: \")\n",
    "words=sentence.split()\n",
    "words.sort()\n",
    "for i in words:\n",
    "    print(i)"
   ]
  },
  {
   "cell_type": "markdown",
   "id": "47fb850a",
   "metadata": {},
   "source": [
    "##### 5. Write a Python Program to Remove Punctuation From a String?"
   ]
  },
  {
   "cell_type": "code",
   "execution_count": 50,
   "id": "3451e6b5",
   "metadata": {},
   "outputs": [
    {
     "name": "stdout",
     "output_type": "stream",
     "text": [
      " hi  wh at is the weat h er lik e \n"
     ]
    }
   ],
   "source": [
    "#Method 1\n",
    "import re\n",
    "sentence = '!hi. wh?at is the weat[h]er lik?e.'\n",
    "new_sentence = re.sub(r\"[^\\w\\s]\", \" \", sentence)\n",
    "print(new_sentence)"
   ]
  },
  {
   "cell_type": "code",
   "execution_count": 51,
   "id": "e52be0f6",
   "metadata": {},
   "outputs": [
    {
     "name": "stdout",
     "output_type": "stream",
     "text": [
      "hi what is the weather like\n"
     ]
    }
   ],
   "source": [
    "#Method 2\n",
    "import string as st\n",
    "sentence = '!hi. wh?at is the weat[h]er lik?e.'\n",
    "new_sentence=sentence.translate(str.maketrans(\"\",\"\",st.punctuation ))\n",
    "print(new_sentence)"
   ]
  },
  {
   "cell_type": "code",
   "execution_count": null,
   "id": "1eb06466",
   "metadata": {},
   "outputs": [],
   "source": []
  }
 ],
 "metadata": {
  "kernelspec": {
   "display_name": "Python 3 (ipykernel)",
   "language": "python",
   "name": "python3"
  },
  "language_info": {
   "codemirror_mode": {
    "name": "ipython",
    "version": 3
   },
   "file_extension": ".py",
   "mimetype": "text/x-python",
   "name": "python",
   "nbconvert_exporter": "python",
   "pygments_lexer": "ipython3",
   "version": "3.9.7"
  }
 },
 "nbformat": 4,
 "nbformat_minor": 5
}
