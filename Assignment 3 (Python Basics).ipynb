{
 "cells": [
  {
   "cell_type": "code",
   "execution_count": null,
   "id": "c07ae210",
   "metadata": {},
   "outputs": [],
   "source": [
    "1. Why are functions advantageous to have in your programs?\n",
    "Functions are advantageous becuase it makes our life easy as we do not need to write same coding again and again to get the same result. It reduce the need for duplication of code, it is easy to update, easy to read."
   ]
  },
  {
   "cell_type": "code",
   "execution_count": null,
   "id": "fa260d07",
   "metadata": {},
   "outputs": [],
   "source": [
    "2.When does the code in a function run: when it specified or when it's called?\n",
    "when it is called"
   ]
  },
  {
   "cell_type": "code",
   "execution_count": null,
   "id": "ae5e851f",
   "metadata": {},
   "outputs": [],
   "source": [
    "3. What statement creates a function?\n",
    "To create a function we need to use def statement with respective function name. "
   ]
  },
  {
   "cell_type": "code",
   "execution_count": null,
   "id": "476e9b65",
   "metadata": {},
   "outputs": [],
   "source": [
    "4. What is the difference between a function and a function call?\n",
    "A function is created using the def statement and by writing some sort of coding under the def statement clauses.\n",
    "However function call is what moves the program execution into the function and return values."
   ]
  },
  {
   "cell_type": "code",
   "execution_count": null,
   "id": "d231dd56",
   "metadata": {},
   "outputs": [],
   "source": [
    "5. How many global scopes are there in a Python program? How many local scopes?\n",
    "There is only one global scope available in python. Whereas local scopes is being created inside the function"
   ]
  },
  {
   "cell_type": "code",
   "execution_count": null,
   "id": "9857f2b4",
   "metadata": {},
   "outputs": [],
   "source": [
    "6. What happens to variables in a local scope when the function call returns?\n",
    "When the function call returns, the local variable available inside that function will be destroyed as it cannot be used in another function\n"
   ]
  },
  {
   "cell_type": "code",
   "execution_count": null,
   "id": "37b86135",
   "metadata": {},
   "outputs": [],
   "source": [
    "7. What is the concept of a return value? Is it possible to have a return value in an expression?\n",
    "A return value is the value that a function call evaluates to. Like any value, a return value can be used as part of an expression."
   ]
  },
  {
   "cell_type": "code",
   "execution_count": null,
   "id": "64944cdb",
   "metadata": {},
   "outputs": [],
   "source": [
    "8. If a function does not have a return statement, what is the return value of a call to that function?\n",
    "If there is no return statement for a function, its return value is None as when the function call it displays nothing"
   ]
  },
  {
   "cell_type": "code",
   "execution_count": null,
   "id": "e99462cb",
   "metadata": {},
   "outputs": [],
   "source": [
    "9. How do you make a function variable refer to the global variable?\n",
    "The global variables are those which are defined outside any function and which are accessible throughout the program i.e. inside and outside of every function."
   ]
  },
  {
   "cell_type": "code",
   "execution_count": null,
   "id": "49696ef5",
   "metadata": {},
   "outputs": [],
   "source": [
    "10.What is the data type of None?\n",
    "The data type of None is nonetype"
   ]
  },
  {
   "cell_type": "code",
   "execution_count": null,
   "id": "a92d47a4",
   "metadata": {},
   "outputs": [],
   "source": [
    "11. What does the sentence import areallyourpetsnamederic do?\n",
    "That import statement imports a module named areallyourpetsnamederic."
   ]
  },
  {
   "cell_type": "code",
   "execution_count": null,
   "id": "c4276188",
   "metadata": {},
   "outputs": [],
   "source": [
    "12. If you had a bacon() feature in a spam module, what would you call it after importing spam?\n",
    "This function can be called with spam.bacon()"
   ]
  },
  {
   "cell_type": "code",
   "execution_count": null,
   "id": "b2f841fd",
   "metadata": {},
   "outputs": [],
   "source": [
    "13. What can you do to save a programme from crashing if it encounters an error?\n",
    "Place the line of code that might cause an error in a try clause."
   ]
  },
  {
   "cell_type": "code",
   "execution_count": null,
   "id": "6f2c95ab",
   "metadata": {},
   "outputs": [],
   "source": [
    "14.What is the purpose of the try clause? What is the purpose of the except clause?\n",
    "The code that could potentially cause an error goes in the try clause.\n",
    "The code that executes if an error happens goes in the except clause"
   ]
  },
  {
   "cell_type": "code",
   "execution_count": null,
   "id": "6722362e",
   "metadata": {},
   "outputs": [],
   "source": []
  }
 ],
 "metadata": {
  "kernelspec": {
   "display_name": "Python 3 (ipykernel)",
   "language": "python",
   "name": "python3"
  },
  "language_info": {
   "codemirror_mode": {
    "name": "ipython",
    "version": 3
   },
   "file_extension": ".py",
   "mimetype": "text/x-python",
   "name": "python",
   "nbconvert_exporter": "python",
   "pygments_lexer": "ipython3",
   "version": "3.9.7"
  }
 },
 "nbformat": 4,
 "nbformat_minor": 5
}
