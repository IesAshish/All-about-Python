{
 "cells": [
  {
   "cell_type": "markdown",
   "id": "c00e9abe",
   "metadata": {},
   "source": [
    "1. Write a Python Program to Check if a Number is Positive, Negative or Zero?"
   ]
  },
  {
   "cell_type": "code",
   "execution_count": 3,
   "id": "82b69356",
   "metadata": {},
   "outputs": [
    {
     "name": "stdout",
     "output_type": "stream",
     "text": [
      "Enter a Number: 2\n",
      "2.0 is the positive number\n"
     ]
    }
   ],
   "source": [
    "try:\n",
    "    Num = float(input(\"Enter a Number: \"))\n",
    "    if Num>0:\n",
    "        print(Num,\"is the positive number\")\n",
    "    elif Num==0:\n",
    "        print(Num,\"is zero\")\n",
    "    else:\n",
    "        print(Num,\"is the negative number\")\n",
    "except Exception as e:\n",
    "    print(e)\n",
    "    "
   ]
  },
  {
   "cell_type": "markdown",
   "id": "c8827332",
   "metadata": {},
   "source": [
    "2. Write a Python Program to Check if a Number is Odd or Even?"
   ]
  },
  {
   "cell_type": "code",
   "execution_count": 13,
   "id": "94b41967",
   "metadata": {},
   "outputs": [
    {
     "name": "stdout",
     "output_type": "stream",
     "text": [
      "Enter a number: 5\n",
      "5 is odd\n"
     ]
    }
   ],
   "source": [
    "try:\n",
    "    def Check():\n",
    "        num = int(input(\"Enter a number: \"))\n",
    "        if num%2 == 0:\n",
    "            print(num,\"is even\")\n",
    "        else:\n",
    "            print(num,\"is odd\")\n",
    "except Exception as e:\n",
    "    print(e)\n",
    "Check()"
   ]
  },
  {
   "cell_type": "markdown",
   "id": "5d503fb7",
   "metadata": {},
   "source": [
    "3. Write a Python Program to Check Leap Year?"
   ]
  },
  {
   "cell_type": "code",
   "execution_count": 15,
   "id": "857535a9",
   "metadata": {},
   "outputs": [
    {
     "name": "stdout",
     "output_type": "stream",
     "text": [
      "Enter a year: 2012\n",
      "It is a leap year\n"
     ]
    }
   ],
   "source": [
    "try:\n",
    "    def check_year():\n",
    "        year=int(input(\"Enter a year: \"))\n",
    "        if year%4==0 and year%100!=0:\n",
    "            print(\"It is a leap year\")\n",
    "        elif year%400==0 and year%100==0:\n",
    "            print(\"it is a leap year\")\n",
    "        else:\n",
    "            print(\"it is not a leap year\")\n",
    "except Exception as e:\n",
    "    print(e)\n",
    "check_year()"
   ]
  },
  {
   "cell_type": "markdown",
   "id": "f9b4bbe6",
   "metadata": {},
   "source": [
    "4. Write a Python Program to Check Prime Number?"
   ]
  },
  {
   "cell_type": "code",
   "execution_count": 4,
   "id": "e382b415",
   "metadata": {},
   "outputs": [
    {
     "name": "stdout",
     "output_type": "stream",
     "text": [
      "Enter a Number: 37\n",
      "37 is a prime number\n"
     ]
    }
   ],
   "source": [
    "try:\n",
    "    num = int(input(\"Enter a Number: \"))\n",
    "    flag = False\n",
    "    if num>1:\n",
    "        for i in range(2,num):\n",
    "            if (num%i)==0:\n",
    "                flag = True\n",
    "                break\n",
    "    if flag:\n",
    "        print(num, \"is not a prime number\")\n",
    "    else:\n",
    "        print(num, \"is a prime number\")\n",
    "except Exception as e:\n",
    "    print(e)"
   ]
  },
  {
   "cell_type": "markdown",
   "id": "78c8a027",
   "metadata": {},
   "source": [
    "5. Write a Python Program to Print all Prime Numbers in an Interval of 1-10000?"
   ]
  },
  {
   "cell_type": "code",
   "execution_count": 16,
   "id": "47842549",
   "metadata": {},
   "outputs": [
    {
     "name": "stdout",
     "output_type": "stream",
     "text": [
      "Enter lower number: 1\n",
      "Enter Upper number: 200\n",
      "2\n",
      "3\n",
      "5\n",
      "7\n",
      "11\n",
      "13\n",
      "17\n",
      "19\n",
      "23\n",
      "29\n",
      "31\n",
      "37\n",
      "41\n",
      "43\n",
      "47\n",
      "53\n",
      "59\n",
      "61\n",
      "67\n",
      "71\n",
      "73\n",
      "79\n",
      "83\n",
      "89\n",
      "97\n",
      "101\n",
      "103\n",
      "107\n",
      "109\n",
      "113\n",
      "127\n",
      "131\n",
      "137\n",
      "139\n",
      "149\n",
      "151\n",
      "157\n",
      "163\n",
      "167\n",
      "173\n",
      "179\n",
      "181\n",
      "191\n",
      "193\n",
      "197\n",
      "199\n"
     ]
    }
   ],
   "source": [
    "\n",
    "l_num = int(input(\"Enter lower number: \"))\n",
    "U_num =int(input(\"Enter Upper number: \"))\n",
    "try:\n",
    "    for num in range(l_num,U_num+1):\n",
    "        if num>1:\n",
    "            for i in range(2,num):\n",
    "                if (num%i)==0:\n",
    "                    break\n",
    "            else:\n",
    "                print(num)\n",
    "except Exception as e:\n",
    "    print(e)"
   ]
  },
  {
   "cell_type": "code",
   "execution_count": null,
   "id": "c379026e",
   "metadata": {},
   "outputs": [],
   "source": []
  }
 ],
 "metadata": {
  "kernelspec": {
   "display_name": "Python 3 (ipykernel)",
   "language": "python",
   "name": "python3"
  },
  "language_info": {
   "codemirror_mode": {
    "name": "ipython",
    "version": 3
   },
   "file_extension": ".py",
   "mimetype": "text/x-python",
   "name": "python",
   "nbconvert_exporter": "python",
   "pygments_lexer": "ipython3",
   "version": "3.9.7"
  }
 },
 "nbformat": 4,
 "nbformat_minor": 5
}
