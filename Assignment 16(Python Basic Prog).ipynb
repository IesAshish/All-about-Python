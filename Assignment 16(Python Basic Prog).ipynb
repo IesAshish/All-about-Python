{
 "cells": [
  {
   "cell_type": "markdown",
   "id": "72bc2613",
   "metadata": {},
   "source": [
    "##### Q-1. Write a function that stutters a word as if someone is struggling to read it. The first two letters are repeated twice with an ellipsis ... and space after each, and then the word is pronounced with a question mark ?."
   ]
  },
  {
   "cell_type": "code",
   "execution_count": 57,
   "id": "2561f4c2",
   "metadata": {},
   "outputs": [],
   "source": [
    "def stutters(word):\n",
    "    new_words = 2*(word[:2]+\"... \")+word+\"?\"\n",
    "    return new_words"
   ]
  },
  {
   "cell_type": "code",
   "execution_count": 60,
   "id": "e8cc468e",
   "metadata": {},
   "outputs": [
    {
     "data": {
      "text/plain": [
       "'en... en... enthusiastic?'"
      ]
     },
     "execution_count": 60,
     "metadata": {},
     "output_type": "execute_result"
    }
   ],
   "source": [
    "stutters(\"enthusiastic\")"
   ]
  },
  {
   "cell_type": "markdown",
   "id": "b159cf15",
   "metadata": {},
   "source": [
    "##### Q-2. Create a function that takes an angle in radians and returns the corresponding angle in degrees rounded to one decimal place."
   ]
  },
  {
   "cell_type": "code",
   "execution_count": 66,
   "id": "be775520",
   "metadata": {},
   "outputs": [],
   "source": [
    "import math\n",
    "def radians_to_degree(radian):\n",
    "    degree = round(radian*(180/math.pi),1)\n",
    "    return degree"
   ]
  },
  {
   "cell_type": "code",
   "execution_count": 67,
   "id": "dd8ca047",
   "metadata": {},
   "outputs": [
    {
     "data": {
      "text/plain": [
       "1145.9"
      ]
     },
     "execution_count": 67,
     "metadata": {},
     "output_type": "execute_result"
    }
   ],
   "source": [
    "radians_to_degree(20)"
   ]
  },
  {
   "cell_type": "markdown",
   "id": "ce24204d",
   "metadata": {},
   "source": [
    "##### Q-3. In this challenge, establish if a given integer num is a Curzon number. If 1 plus 2 elevated to num is exactly divisible by 1 plus 2 multiplied by num, then num is a Curzon number.\n",
    "##### Given a non-negative integer num, implement a function that returns True if num is a Curzon number, or False otherwise."
   ]
  },
  {
   "cell_type": "code",
   "execution_count": 72,
   "id": "7800384d",
   "metadata": {},
   "outputs": [],
   "source": [
    "def is_curzon(num):\n",
    "    try:\n",
    "        if num<1:\n",
    "            raise ValueError(\"Negative Integer Entered\")\n",
    "        Numerator = 1 + 2**num\n",
    "        Denominator = 1 + 2*num\n",
    "        if Numerator%Denominator == 0:\n",
    "            return True\n",
    "        else:\n",
    "            return False\n",
    "    except ValueError as v:\n",
    "        print(\"Error!!\",v)"
   ]
  },
  {
   "cell_type": "code",
   "execution_count": 76,
   "id": "dce9d4a5",
   "metadata": {},
   "outputs": [
    {
     "data": {
      "text/plain": [
       "True"
      ]
     },
     "execution_count": 76,
     "metadata": {},
     "output_type": "execute_result"
    }
   ],
   "source": [
    "is_curzon(5)"
   ]
  },
  {
   "cell_type": "markdown",
   "id": "59ff55bb",
   "metadata": {},
   "source": [
    "##### Q-4.Given the side length x find the area of a hexagon."
   ]
  },
  {
   "cell_type": "code",
   "execution_count": 83,
   "id": "d50cb905",
   "metadata": {},
   "outputs": [],
   "source": [
    "import math\n",
    "def area_of_hexagon(side):\n",
    "    numerator= 3*math.sqrt(3)*math.pow(side,2)\n",
    "    denominator = 2\n",
    "    area = round(numerator/denominator,1)\n",
    "    return area"
   ]
  },
  {
   "cell_type": "code",
   "execution_count": 86,
   "id": "730d7e73",
   "metadata": {},
   "outputs": [
    {
     "data": {
      "text/plain": [
       "23.4"
      ]
     },
     "execution_count": 86,
     "metadata": {},
     "output_type": "execute_result"
    }
   ],
   "source": [
    "area_of_hexagon(3)"
   ]
  },
  {
   "cell_type": "markdown",
   "id": "9e50ea01",
   "metadata": {},
   "source": [
    "##### Q-5. Create a function that returns a base-2 (binary) representation of a base-10 (decimal) string number. To convert is simple: ((2) means base-2 and (10) means base-10) 010101001(2) = 1 + 8 + 32 + 128.\n",
    "##### Going from right to left, the value of the most right bit is 1, now from that every bit to the left will be x2 the value, value of an 8 bit binary numbers are (256, 128, 64, 32, 16, 8, 4, 2, 1)."
   ]
  },
  {
   "cell_type": "code",
   "execution_count": 3,
   "id": "8076b953",
   "metadata": {},
   "outputs": [],
   "source": [
    "def dec_to_binary(dec):\n",
    "    temp = int(dec)\n",
    "    binary=\"\"\n",
    "    while temp > 0:\n",
    "        rem = temp % 2\n",
    "        binary = f\"{rem}\" + binary\n",
    "        temp //= 2\n",
    "    return binary\n",
    "def binary_to_dec(binary):\n",
    "    lenn = len(binary)\n",
    "    dec=0\n",
    "    for i in range(lenn):\n",
    "        dec += int(binary[lenn-(i+1)])*(2**i)\n",
    "    return str(dec)\n"
   ]
  },
  {
   "cell_type": "code",
   "execution_count": 5,
   "id": "73b37350",
   "metadata": {},
   "outputs": [
    {
     "name": "stdout",
     "output_type": "stream",
     "text": [
      "Enter decimal string number: 100\n",
      "100 (10) = 1100100 (2)\n"
     ]
    }
   ],
   "source": [
    "n = input(\"Enter decimal string number: \")\n",
    "binary = dec_to_binary(n)\n",
    "print(f\"{n} (10) = {binary} (2)\")"
   ]
  },
  {
   "cell_type": "code",
   "execution_count": 6,
   "id": "3dfcd224",
   "metadata": {},
   "outputs": [
    {
     "name": "stdout",
     "output_type": "stream",
     "text": [
      "Enter binary string number: 1100100\n",
      "1100100 (2) = 100 (10)\n"
     ]
    }
   ],
   "source": [
    "binary = input(\"Enter binary string number: \")\n",
    "dec = binary_to_dec(binary)\n",
    "print(f\"{binary} (2) = {dec} (10)\")"
   ]
  },
  {
   "cell_type": "code",
   "execution_count": null,
   "id": "36020619",
   "metadata": {},
   "outputs": [],
   "source": []
  }
 ],
 "metadata": {
  "kernelspec": {
   "display_name": "Python 3 (ipykernel)",
   "language": "python",
   "name": "python3"
  },
  "language_info": {
   "codemirror_mode": {
    "name": "ipython",
    "version": 3
   },
   "file_extension": ".py",
   "mimetype": "text/x-python",
   "name": "python",
   "nbconvert_exporter": "python",
   "pygments_lexer": "ipython3",
   "version": "3.9.7"
  }
 },
 "nbformat": 4,
 "nbformat_minor": 5
}
