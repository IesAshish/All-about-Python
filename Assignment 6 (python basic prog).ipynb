{
 "cells": [
  {
   "cell_type": "markdown",
   "id": "c29c8ce0",
   "metadata": {},
   "source": [
    "1. Write a Python Program to Display Fibonacci Sequence Using Recursion?"
   ]
  },
  {
   "cell_type": "code",
   "execution_count": 17,
   "id": "9b391db1",
   "metadata": {},
   "outputs": [
    {
     "name": "stdout",
     "output_type": "stream",
     "text": [
      "0 1 1 2 3 5 8 13 21 34 55 "
     ]
    }
   ],
   "source": [
    "def fibonacci(n):\n",
    "    if n==0:\n",
    "        return 0\n",
    "    elif n==1:\n",
    "        return 1\n",
    "    else:\n",
    "        return fibonacci(n-2)+fibonacci(n-1)\n",
    "for i in range(11):\n",
    "    print(fibonacci(i), end=\" \")"
   ]
  },
  {
   "cell_type": "markdown",
   "id": "6d3b219c",
   "metadata": {},
   "source": [
    "2. Write a Python Program to Find Factorial of Number Using Recursion?"
   ]
  },
  {
   "cell_type": "code",
   "execution_count": 49,
   "id": "bd7ac0c6",
   "metadata": {},
   "outputs": [],
   "source": [
    "def factorial (n):\n",
    "    try:\n",
    "        if n==0:\n",
    "            return 1 \n",
    "        return n * factorial(n-1)\n",
    "    except Exception as e:\n",
    "        print(e)"
   ]
  },
  {
   "cell_type": "markdown",
   "id": "e32cf59b",
   "metadata": {},
   "source": [
    "3. Write a Python Program to calculate your Body Mass Index?\n"
   ]
  },
  {
   "cell_type": "code",
   "execution_count": null,
   "id": "5ceb20e4",
   "metadata": {},
   "outputs": [],
   "source": [
    "def BMI(weight, height_1):\n",
    "        #coverting height in metre\n",
    "        height_2 = height_1/100\n",
    "        BMI = weight/height_2**2\n",
    "        try:\n",
    "            if BMI <=18.5:\n",
    "                print(\"%0.2f\" %BMI,\"-\",\"You are Underweight\")\n",
    "            elif BMI>18.5 and BMI<=24.9:\n",
    "                print(\"%0.2f\" %BMI,\"-\",\"You are Normal\")\n",
    "            elif BMI>=25 and BMI<=29.9:\n",
    "                print(\"%0.2f\" %BMI,\"-\",\"You are Overweight\")\n",
    "            elif BMI>=30 and BMI<=34.9:\n",
    "                print(\"%0.2f\" %BMI,\"-\",\"You are Obese\")\n",
    "            elif BMI>=35 and BMI<=39.9:\n",
    "                print(\"%0.2f\" %BMI,\"-\",\"You are severly obese\")\n",
    "            else:\n",
    "                print(\"%0.2f\" %BMI,\"-\",\"You are Morbidly obese\")\n",
    "        except Exceptione as e:\n",
    "            print(e)"
   ]
  },
  {
   "cell_type": "markdown",
   "id": "87e7895f",
   "metadata": {},
   "source": [
    "4. Write a Python Program to calculate the natural logarithm of any number?"
   ]
  },
  {
   "cell_type": "code",
   "execution_count": 2,
   "id": "6efe5dcf",
   "metadata": {},
   "outputs": [
    {
     "name": "stdout",
     "output_type": "stream",
     "text": [
      "2.302585092994046\n"
     ]
    }
   ],
   "source": [
    "import math\n",
    "print(math.log(10))"
   ]
  },
  {
   "cell_type": "markdown",
   "id": "bb5780a8",
   "metadata": {},
   "source": [
    "5. Write a Python Program for cube sum of first n natural numbers?"
   ]
  },
  {
   "cell_type": "code",
   "execution_count": 1,
   "id": "e178c604",
   "metadata": {},
   "outputs": [],
   "source": [
    "def cubesum(*args):\n",
    "    sum = 0\n",
    "    try:\n",
    "        for i in args:\n",
    "            sum = sum + i**3\n",
    "        return sum\n",
    "    except Exception as e :\n",
    "        print(e)"
   ]
  },
  {
   "cell_type": "code",
   "execution_count": null,
   "id": "e5e4aad1",
   "metadata": {},
   "outputs": [],
   "source": []
  }
 ],
 "metadata": {
  "kernelspec": {
   "display_name": "Python 3 (ipykernel)",
   "language": "python",
   "name": "python3"
  },
  "language_info": {
   "codemirror_mode": {
    "name": "ipython",
    "version": 3
   },
   "file_extension": ".py",
   "mimetype": "text/x-python",
   "name": "python",
   "nbconvert_exporter": "python",
   "pygments_lexer": "ipython3",
   "version": "3.9.7"
  }
 },
 "nbformat": 4,
 "nbformat_minor": 5
}
