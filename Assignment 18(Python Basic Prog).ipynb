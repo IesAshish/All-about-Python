{
 "cells": [
  {
   "cell_type": "markdown",
   "id": "216a84c8",
   "metadata": {},
   "source": [
    "##### Q-1. Create a function that takes a list of non-negative integers and strings and return a new list without the strings."
   ]
  },
  {
   "cell_type": "code",
   "execution_count": 5,
   "id": "282f2bcc",
   "metadata": {},
   "outputs": [],
   "source": [
    "## Method 1\n",
    "def filter_list(lst):\n",
    "    new_lst=[i for i in lst if type(i)==int]\n",
    "    return new_lst\n",
    "\n",
    "## Method 2\n",
    "def filter_list1(lst):\n",
    "    new_lst1 =list(filter(lambda x:type(x)==int, lst))\n",
    "    return new_lst1"
   ]
  },
  {
   "cell_type": "markdown",
   "id": "9f9c9a21",
   "metadata": {},
   "source": [
    "##### Q-2.The \"Reverser\" takes a string as input and returns that string in reverse order, with the opposite case."
   ]
  },
  {
   "cell_type": "code",
   "execution_count": 4,
   "id": "60f985bb",
   "metadata": {},
   "outputs": [],
   "source": [
    "def reverser(str_of_words):\n",
    "    new_word = str_of_words[::-1].swapcase()\n",
    "    return new_word"
   ]
  },
  {
   "cell_type": "markdown",
   "id": "3475a0cb",
   "metadata": {},
   "source": [
    "##### Q-3. You can assign variables from lists like this:\n",
    "lst = [1, 2, 3, 4, 5, 6]\n",
    "first = lst[0]\n",
    "middle = lst[1:-1]\n",
    "last = lst[-1]\n",
    "print(first) ➞ outputs 1\n",
    "print(middle) ➞ outputs [2, 3, 4, 5]\n",
    "print(last) ➞ outputs 6\n",
    "With Python 3, you can assign variables from lists in a much more succinct way. Create\n",
    "variables first, middle and last from the given list using destructuring assignment\n",
    "(check the Resources tab for some examples), where:\n",
    "first ➞ 1\n",
    "middle ➞ [2, 3, 4, 5]\n",
    "last ➞ 6\n",
    "\n",
    "Your task is to unpack the list writeyourcodehere into three variables, being first,\n",
    "middle, and last, with middle being everything in between the first and last element. Then\n",
    "print all three variables. "
   ]
  },
  {
   "cell_type": "code",
   "execution_count": 3,
   "id": "9f967346",
   "metadata": {},
   "outputs": [
    {
     "name": "stdout",
     "output_type": "stream",
     "text": [
      "first--> 1\n",
      "middle--> [2, 3, 4, 5]\n",
      "last--> 6\n"
     ]
    }
   ],
   "source": [
    "def unpack(lst):\n",
    "    first, *middle, last = lst\n",
    "    return first, middle, last\n",
    "\n",
    "lst = [1,2,3,4,5,6]\n",
    "first, *middle, last = unpack(lst)\n",
    "print(\"first-->\", first)\n",
    "print(\"middle-->\", *middle)\n",
    "print(\"last-->\", last)"
   ]
  },
  {
   "cell_type": "markdown",
   "id": "75b144e4",
   "metadata": {},
   "source": [
    "##### Q-4. Write a function that calculates the factorial of a number recursively."
   ]
  },
  {
   "cell_type": "code",
   "execution_count": 1,
   "id": "0143dc00",
   "metadata": {},
   "outputs": [],
   "source": [
    "def factorial(num, facto=1, temp=1):\n",
    "    facto =facto*temp\n",
    "    if temp<num:\n",
    "        temp+=1\n",
    "        return factorial(num,facto,temp)\n",
    "    else:\n",
    "        return facto"
   ]
  },
  {
   "cell_type": "markdown",
   "id": "bd41399b",
   "metadata": {},
   "source": [
    "##### Q-5. Write a function that moves all elements of one type to the end of the list."
   ]
  },
  {
   "cell_type": "code",
   "execution_count": 2,
   "id": "f45588f1",
   "metadata": {},
   "outputs": [],
   "source": [
    "def move_to_end(lst,element):\n",
    "    l1=[]\n",
    "    l2 =[]\n",
    "    for i in range(len(lst)):\n",
    "        if lst[i] == element:\n",
    "            l1.append(lst[i])\n",
    "        else:\n",
    "            l2.append(lst[i])\n",
    "    l2 = l2+l1\n",
    "    return l2"
   ]
  },
  {
   "cell_type": "code",
   "execution_count": null,
   "id": "d98cee20",
   "metadata": {},
   "outputs": [],
   "source": []
  }
 ],
 "metadata": {
  "kernelspec": {
   "display_name": "Python 3 (ipykernel)",
   "language": "python",
   "name": "python3"
  },
  "language_info": {
   "codemirror_mode": {
    "name": "ipython",
    "version": 3
   },
   "file_extension": ".py",
   "mimetype": "text/x-python",
   "name": "python",
   "nbconvert_exporter": "python",
   "pygments_lexer": "ipython3",
   "version": "3.9.7"
  }
 },
 "nbformat": 4,
 "nbformat_minor": 5
}
