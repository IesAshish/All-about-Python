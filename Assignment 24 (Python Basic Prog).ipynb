{
 "cells": [
  {
   "cell_type": "markdown",
   "id": "3b8175ee",
   "metadata": {},
   "source": [
    "##### Q-1. Create a function that takes an integer and returns a list from 1 to the given number, where:\n",
    "1. If the number can be divided evenly by 4, amplify it by 10 (i.e. return 10 times the\n",
    "number).\n",
    "2. If the number cannot be divided evenly by 4, simply return the number."
   ]
  },
  {
   "cell_type": "code",
   "execution_count": 34,
   "id": "1bd831da",
   "metadata": {},
   "outputs": [],
   "source": [
    "try:\n",
    "    def amplify(num):\n",
    "        temp=[i*10 if i%4==0 else i for i in range(1,num+1)]\n",
    "        return temp\n",
    "except Exception as e:\n",
    "    print(e)\n",
    "\n",
    "amplify(10)"
   ]
  },
  {
   "cell_type": "markdown",
   "id": "42b64d02",
   "metadata": {},
   "source": [
    "##### Q-2. Create a function that takes a list of numbers and return the number that's unique."
   ]
  },
  {
   "cell_type": "code",
   "execution_count": 40,
   "id": "3dce3365",
   "metadata": {},
   "outputs": [],
   "source": [
    "try:\n",
    "    def unique(list_num):\n",
    "        \"\"\"This function returns the number which is unique\"\"\"\n",
    "        for i in list_num:\n",
    "            if list_num.count(i) ==1:\n",
    "                return i\n",
    "except Exception as e:\n",
    "    print(e)\n",
    "\n",
    "unique([3,3,3,7,3,3])"
   ]
  },
  {
   "cell_type": "markdown",
   "id": "6b4525ad",
   "metadata": {},
   "source": [
    "##### Q-3. Your task is to create a Circle constructor that creates a circle with a radius provided by an argument. The circles constructed must have two getters getArea() (PIr^2) and getPerimeter() (2PI*r) which give both respective areas and perimeter (circumference)."
   ]
  },
  {
   "cell_type": "code",
   "execution_count": 32,
   "id": "74a73eb1",
   "metadata": {},
   "outputs": [],
   "source": [
    "import math\n",
    "class Circle:\n",
    "    def __init__(self,radius):\n",
    "        self.radius = radius\n",
    "    def getArea(self):\n",
    "        area = (math.pi)*(self.radius)**2\n",
    "        return area\n",
    "    def getPerimeter(self):\n",
    "        perimeter = 2*(math.pi)*(self.radius)\n",
    "        return perimeter\n",
    "    "
   ]
  },
  {
   "cell_type": "code",
   "execution_count": 36,
   "id": "065eb94b",
   "metadata": {},
   "outputs": [
    {
     "name": "stdout",
     "output_type": "stream",
     "text": [
      "The area of circle will be:  380.13\n"
     ]
    }
   ],
   "source": [
    "circy = Circle(11)\n",
    "print(\"The area of circle will be: \",round(circy.getArea(),2))"
   ]
  },
  {
   "cell_type": "code",
   "execution_count": 37,
   "id": "f9566f93",
   "metadata": {},
   "outputs": [
    {
     "name": "stdout",
     "output_type": "stream",
     "text": [
      "The perimeter of circle will be:  27.9\n"
     ]
    }
   ],
   "source": [
    "circy = Circle(4.44)\n",
    "print(\"The perimeter of circle will be: \", round(circy.getPerimeter(),2))"
   ]
  },
  {
   "cell_type": "markdown",
   "id": "d272c420",
   "metadata": {},
   "source": [
    "##### Q-4. Create a function that takes a list of strings and return a list, sorted from shortest to longest."
   ]
  },
  {
   "cell_type": "code",
   "execution_count": 59,
   "id": "177befce",
   "metadata": {},
   "outputs": [],
   "source": [
    "# Method 1\n",
    "try:\n",
    "    def sort_by_length(list_str):\n",
    "        list_str.sort(key=len)\n",
    "        return list_str    \n",
    "except Exception as e:\n",
    "    print(e)\n",
    "    \n",
    "## Method 2\n",
    "try:\n",
    "    def sort_len(num,order = True):\n",
    "        for i in range(len(num)-1):\n",
    "            for j in range(len(num)-1):\n",
    "                if order ==True:\n",
    "                    if len(num[j+1])<len(num[j]):\n",
    "                        num[j+1],num[j] = num[j],num[j+1]\n",
    "                    elif order == False:\n",
    "                        if len(num[j+1])>len(num[j]):\n",
    "                            num[j+1],num[j] = num[j],num[j+1]\n",
    "        return num\n",
    "except Exception as e:\n",
    "    print(e)"
   ]
  },
  {
   "cell_type": "code",
   "execution_count": 60,
   "id": "2039afbb",
   "metadata": {},
   "outputs": [
    {
     "data": {
      "text/plain": [
       "['Apple', 'Google', 'Microsoft']"
      ]
     },
     "execution_count": 60,
     "metadata": {},
     "output_type": "execute_result"
    }
   ],
   "source": [
    "sort_by_length([\"Google\", \"Apple\", \"Microsoft\"])\n"
   ]
  },
  {
   "cell_type": "code",
   "execution_count": 24,
   "id": "d3a5d963",
   "metadata": {},
   "outputs": [
    {
     "data": {
      "text/plain": [
       "['Raphael', 'Leonardo', 'Donatello', 'Michelangelo']"
      ]
     },
     "execution_count": 24,
     "metadata": {},
     "output_type": "execute_result"
    }
   ],
   "source": [
    "sort_len([\"Leonardo\", \"Michelangelo\", \"Raphael\", \"Donatello\"])"
   ]
  },
  {
   "cell_type": "markdown",
   "id": "16ae0d52",
   "metadata": {},
   "source": [
    "##### Q-5. Create a function that validates whether three given integers form a Pythagorean triplet. The sum of the squares of the two smallest integers must equal the square of the largest number to be validated."
   ]
  },
  {
   "cell_type": "code",
   "execution_count": 12,
   "id": "f141ba22",
   "metadata": {},
   "outputs": [],
   "source": [
    "# Method 1\n",
    "try:\n",
    "    def is_triplet(a,b,c):\n",
    "        if a>b and a>c:\n",
    "            return b**2 + c**2 == a**2\n",
    "        elif b>a and b>c:\n",
    "            return a**2 + c**2 == b**2\n",
    "        else:\n",
    "            return a**2 + b**2 == c**2\n",
    "except Exception as e:\n",
    "    print(e)\n",
    "    \n",
    "is_triplet(13,5,12)\n",
    "\n",
    "\n",
    "#Method 2 \n",
    "try:\n",
    "    def check_triplet(a,b,c):\n",
    "        sort_num = [a,b,c]\n",
    "        sort_num.sort()\n",
    "        if sort_num[0]**2 + sort_num[1]**2 == sort_num[2]**2:\n",
    "            return True\n",
    "        else:\n",
    "            return False\n",
    "except Exception as e:\n",
    "    print(e)"
   ]
  },
  {
   "cell_type": "code",
   "execution_count": null,
   "id": "bafbbc00",
   "metadata": {},
   "outputs": [],
   "source": []
  }
 ],
 "metadata": {
  "kernelspec": {
   "display_name": "Python 3 (ipykernel)",
   "language": "python",
   "name": "python3"
  },
  "language_info": {
   "codemirror_mode": {
    "name": "ipython",
    "version": 3
   },
   "file_extension": ".py",
   "mimetype": "text/x-python",
   "name": "python",
   "nbconvert_exporter": "python",
   "pygments_lexer": "ipython3",
   "version": "3.9.7"
  }
 },
 "nbformat": 4,
 "nbformat_minor": 5
}
