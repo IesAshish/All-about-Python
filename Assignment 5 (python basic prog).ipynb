{
 "cells": [
  {
   "cell_type": "markdown",
   "id": "0150e26b",
   "metadata": {},
   "source": [
    "1. Write a Python Program to Find LCM?"
   ]
  },
  {
   "cell_type": "code",
   "execution_count": 45,
   "id": "7774b159",
   "metadata": {},
   "outputs": [],
   "source": [
    "def lcm(x,y):\n",
    "    if x>y:\n",
    "        larger = x\n",
    "    else:\n",
    "        larger = y\n",
    "    flag = True\n",
    "    while flag:\n",
    "        if(larger%x)==0 and (larger%y)==0:\n",
    "            LCM = larger\n",
    "            flag= False\n",
    "            break\n",
    "        larger = larger+1\n",
    "    return LCM"
   ]
  },
  {
   "cell_type": "markdown",
   "id": "af5d651e",
   "metadata": {},
   "source": [
    "2. Write a Python Program to Find HCF? "
   ]
  },
  {
   "cell_type": "code",
   "execution_count": 11,
   "id": "45183f4e",
   "metadata": {},
   "outputs": [],
   "source": [
    "def hcf(x,y):\n",
    "    if x>y:\n",
    "        smaller=y\n",
    "    else:\n",
    "        smaller=x\n",
    "    for num in range(1,smaller+1):\n",
    "        if (x%num==0) and (y%num==0):\n",
    "            HCF = num\n",
    "    return HCF"
   ]
  },
  {
   "cell_type": "markdown",
   "id": "01a43df5",
   "metadata": {},
   "source": [
    "3. Write a Python Program to Convert Decimal to Binary, Octal and Hexadecimal?"
   ]
  },
  {
   "cell_type": "code",
   "execution_count": 20,
   "id": "615391bb",
   "metadata": {},
   "outputs": [
    {
     "name": "stdout",
     "output_type": "stream",
     "text": [
      "Enter a decimal: 344\n",
      "The binary for 344 is 0b101011000\n",
      "The Octal for 344 is 0o530\n",
      "The Hexadecimal for 344 is 0x158\n"
     ]
    }
   ],
   "source": [
    "decimal = int(input(\"Enter a decimal: \"))\n",
    "print(\"The binary for\", decimal, \"is\", bin(decimal))\n",
    "print(\"The Octal for\", decimal, \"is\", oct(decimal))\n",
    "print(\"The Hexadecimal for\", decimal,\"is\", hex(decimal))"
   ]
  },
  {
   "cell_type": "markdown",
   "id": "ab4eb3cc",
   "metadata": {},
   "source": [
    "4. Write a Python Program To Find ASCII value of a character?"
   ]
  },
  {
   "cell_type": "code",
   "execution_count": 13,
   "id": "ab8c996d",
   "metadata": {},
   "outputs": [
    {
     "name": "stdout",
     "output_type": "stream",
     "text": [
      "*\n",
      "The ASCII value of * is 42\n"
     ]
    }
   ],
   "source": [
    "a=input()\n",
    "print(\"The ASCII value of\",a,\"is\", ord(a))"
   ]
  },
  {
   "cell_type": "markdown",
   "id": "5707c704",
   "metadata": {},
   "source": [
    "5. Write a Python Program to Make a Simple Calculator with 4 basic mathematical operations?"
   ]
  },
  {
   "cell_type": "code",
   "execution_count": 22,
   "id": "b5d5113b",
   "metadata": {},
   "outputs": [
    {
     "name": "stdout",
     "output_type": "stream",
     "text": [
      "1. Addition\n",
      "2.subtraction\n",
      "3.multiply \n",
      "4. Divide \n",
      "\n",
      "Enter an option: 4\n",
      "Enter 1st number: 6\n",
      "Enter 2nd number: 2\n",
      "the division is 3.0\n"
     ]
    }
   ],
   "source": [
    "try:\n",
    "    def add(num1,num2):\n",
    "        return num1+ num2\n",
    "    def subtract(num1,num2):\n",
    "        return num1-num2\n",
    "    def multiply(num1,num2):\n",
    "        return num1*num2\n",
    "    def divide(num1,num2):\n",
    "        return num1/num2\n",
    "\n",
    "    print(\"1. Addition\\n\"\n",
    "         \"2.subtraction\\n\"\n",
    "         \"3.multiply \\n\"\n",
    "         \"4. Divide \\n\")\n",
    "    option = int(input(\"Enter an option: \"))\n",
    "    num1 = float(input(\"Enter 1st number: \"))\n",
    "    num2 = float(input(\"Enter 2nd number: \"))\n",
    "    if option ==1:\n",
    "        print(\"The sum is\", add(num1,num2))\n",
    "    elif option ==2:\n",
    "        print(\"The subtraction is\", subtract(num1, num2))\n",
    "    elif option == 3:\n",
    "        print(\"The multiplication is \", multiply(num1,num2))\n",
    "    elif option ==4:\n",
    "        print(\"the division is\", divide(num1,num2))\n",
    "    elif option>4:\n",
    "        print(\"Sorry!! No option is available\")\n",
    "    else:\n",
    "        print(\"something is wrong, check again!\")\n",
    "except Exception as e:\n",
    "    print(e)"
   ]
  },
  {
   "cell_type": "code",
   "execution_count": null,
   "id": "610d9751",
   "metadata": {},
   "outputs": [],
   "source": []
  }
 ],
 "metadata": {
  "kernelspec": {
   "display_name": "Python 3 (ipykernel)",
   "language": "python",
   "name": "python3"
  },
  "language_info": {
   "codemirror_mode": {
    "name": "ipython",
    "version": 3
   },
   "file_extension": ".py",
   "mimetype": "text/x-python",
   "name": "python",
   "nbconvert_exporter": "python",
   "pygments_lexer": "ipython3",
   "version": "3.9.7"
  }
 },
 "nbformat": 4,
 "nbformat_minor": 5
}
