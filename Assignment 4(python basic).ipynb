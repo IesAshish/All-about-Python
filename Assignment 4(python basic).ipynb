{
 "cells": [
  {
   "cell_type": "raw",
   "id": "6785273a",
   "metadata": {},
   "source": [
    "1. What exactly is []?\n",
    "It is a empty list, which contains no items.\n"
   ]
  },
  {
   "cell_type": "raw",
   "id": "71699d11",
   "metadata": {},
   "source": [
    "2. In a list of values stored in a variable called spam, how would you assign the value 'hello' as the\n",
    "third value? (Assume [2, 4, 6, 8, 10] are in spam.)\n",
    "spam=[2,4,6,8,10]\n",
    "spam[2]=\"hello\"\n",
    "spam = [2,4,\"hello\",8,10]"
   ]
  },
  {
   "cell_type": "raw",
   "id": "921f80d0",
   "metadata": {},
   "source": [
    "3. What is the value of spam[int(int('3' * 2) / 11)]?\n",
    "spam=[\"a\",\"b\",\"c\",\"d\"]\n",
    "spam[int(int('3' * 2) / 11)]\n",
    "Its value will be \"d\" as \"3\"*2 means it will give \"33\" which is a string but as we use int function so it will convert \"33\" into 33 and then it is divided by 11 gives 3 which is also an integer. Therefore, value is \"d\"\n"
   ]
  },
  {
   "cell_type": "raw",
   "id": "21aa89aa",
   "metadata": {},
   "source": [
    "4. What is the value of spam[-1]?\n",
    "spam=[\"a\",\"b\",\"c\",\"d\"]\n",
    "spam[-1]\n",
    "Its value will be \"d\" "
   ]
  },
  {
   "cell_type": "raw",
   "id": "5e182fc0",
   "metadata": {},
   "source": [
    "5. What is the value of spam[:2]?\n",
    "spam=[\"a\",\"b\",\"c\",\"d\"]\n",
    "spam[:2]\n",
    "Its value will be [\"a\",\"b\"]"
   ]
  },
  {
   "cell_type": "raw",
   "id": "55af4d8f",
   "metadata": {},
   "source": [
    "6. What is the value of bacon.index(\"cat\")?\n",
    "bacon=[3.14,\"cat\",11,\"cat\",True]\n",
    "bacon.index(\"cat\")\n",
    "value will be 1"
   ]
  },
  {
   "cell_type": "raw",
   "id": "d1512282",
   "metadata": {},
   "source": [
    "7. How does bacon.append(99) change the look of the list value in bacon?\n",
    "bacon=[3.14,\"cat\",11,\"cat\",True]\n",
    "bacon.append(99)\n",
    "#append function add the value to the list in the end\n",
    "bacon = [3.14, 'cat', 11, 'cat', True, 99]"
   ]
  },
  {
   "cell_type": "raw",
   "id": "b3bf40e1",
   "metadata": {},
   "source": [
    "8. How does bacon.remove('cat') change the look of the list in bacon?\n",
    "bacon=[3.14,\"cat\",11,\"cat\",True]\n",
    "bacon.remove(\"cat\")\n",
    "remove function removes the first occurance of the value therefore it removes \"cat\" from the list which is at index 1\n",
    "bacon = [3.14,11,\"cat\",True]"
   ]
  },
  {
   "cell_type": "raw",
   "id": "852867ea",
   "metadata": {},
   "source": [
    "9. What are the list concatenation and list replication operators?\n",
    "List concatenation actually joins two list together with the help of operator called +. However list replication actually replicate the whole list into a single list with the help of operator called *\n"
   ]
  },
  {
   "cell_type": "raw",
   "id": "3cc49453",
   "metadata": {},
   "source": [
    "10. What is difference between the list methods append() and insert()?\n",
    "append() function add the object at the end of the list while insert() function add object before the index mentioned in the list."
   ]
  },
  {
   "cell_type": "raw",
   "id": "0e713e37",
   "metadata": {},
   "source": [
    "11. What are the two methods for removing items from a list?\n",
    "Two methods for removing items from a list are:-\n",
    "remove() and pop()"
   ]
  },
  {
   "cell_type": "raw",
   "id": "dab637ac",
   "metadata": {},
   "source": [
    "12. Describe how list values and string values are identical.\n",
    "Both lists and strings can be passed to len(), have indexes and slices, be used in for loops, be concatenated or replicated, and be used with the in and not in operators"
   ]
  },
  {
   "cell_type": "raw",
   "id": "889c67ee",
   "metadata": {},
   "source": [
    "13. What's the difference between tuples and lists?\n",
    "Tuples - It can be created using tuple() function, It allows duplicate of elements, It is immutable i.e. can't make any changes \n",
    "List- It can be created using list() function, It allows duplicate of elements, It is mutable i.e. can make changes"
   ]
  },
  {
   "cell_type": "raw",
   "id": "34e1423d",
   "metadata": {},
   "source": [
    "14. How do you type a tuple value that only contains the integer 42?\n",
    "a=(42,)"
   ]
  },
  {
   "cell_type": "raw",
   "id": "6781ba18",
   "metadata": {},
   "source": [
    "15. How do you get a list value's tuple form? How do you get a tuple value's list form?\n",
    "By typecating the list valuess using tuple function for e.g.\n",
    "a=tuple([\"a\",\"b\",\"c\",\"d\"])\n",
    "By typecasting the tuple values using list function for e.g.\n",
    "b=list((\"a\",\"b\",\"c\",\"d\"))"
   ]
  },
  {
   "cell_type": "raw",
   "id": "93890ade",
   "metadata": {},
   "source": [
    "16. Variables that \"contain\" list values are not necessarily lists themselves. Instead, what do they\n",
    "contain?\n",
    "skip"
   ]
  },
  {
   "cell_type": "raw",
   "id": "90c44308",
   "metadata": {},
   "source": [
    "17. How do you distinguish between copy.copy() and copy.deepcopy()?\n",
    "copy.copy() function will do a shallow copy of a list i.e. a reference of object is being created which means that any changes made to a copy of object will reflect in the original object too.\n",
    "copy.deepcopy() function will do a deep copy of a list i.e. any changes made to a copy of object do not reflect in the original object.\n"
   ]
  },
  {
   "cell_type": "code",
   "execution_count": null,
   "id": "19a23a91",
   "metadata": {},
   "outputs": [],
   "source": []
  }
 ],
 "metadata": {
  "kernelspec": {
   "display_name": "Python 3 (ipykernel)",
   "language": "python",
   "name": "python3"
  },
  "language_info": {
   "codemirror_mode": {
    "name": "ipython",
    "version": 3
   },
   "file_extension": ".py",
   "mimetype": "text/x-python",
   "name": "python",
   "nbconvert_exporter": "python",
   "pygments_lexer": "ipython3",
   "version": "3.9.7"
  }
 },
 "nbformat": 4,
 "nbformat_minor": 5
}
