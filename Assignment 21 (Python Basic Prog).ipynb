{
 "cells": [
  {
   "cell_type": "markdown",
   "id": "074a9b93",
   "metadata": {},
   "source": [
    "##### Q-1. Write a function that takes a list and a number as arguments. Add the number to the end of the list, then remove the first element of the list. The function should then return the updated list."
   ]
  },
  {
   "cell_type": "code",
   "execution_count": 20,
   "id": "e634afd0",
   "metadata": {},
   "outputs": [],
   "source": [
    "def next_in_line(list1,num):\n",
    "    try:\n",
    "        if list1 is not list:\n",
    "            list1.append(num)\n",
    "            list1.pop(0)\n",
    "            return list1\n",
    "        else:\n",
    "            return \"Enter a list\"\n",
    "    except Exception as e:\n",
    "        print(\"error has occured: \",e)"
   ]
  },
  {
   "cell_type": "code",
   "execution_count": 21,
   "id": "e2878b99",
   "metadata": {},
   "outputs": [
    {
     "data": {
      "text/plain": [
       "[2, 3, 5, 'a', 7, 4]"
      ]
     },
     "execution_count": 21,
     "metadata": {},
     "output_type": "execute_result"
    }
   ],
   "source": [
    "next_in_line([1,2,3,5,\"a\",7],4)"
   ]
  },
  {
   "cell_type": "markdown",
   "id": "7c558129",
   "metadata": {},
   "source": [
    "##### Q-2. Create the function that takes a list of dictionaries and returns the sum of people's budgets."
   ]
  },
  {
   "cell_type": "code",
   "execution_count": 56,
   "id": "cc74e234",
   "metadata": {},
   "outputs": [],
   "source": [
    "#Method 1\n",
    "def get_budget(dic):\n",
    "    list1=[]\n",
    "    total_budget = 0\n",
    "    try:\n",
    "        for i in range(len(dic)):\n",
    "            list1.append(dic[i].get(\"budget\"))\n",
    "        for j in list1:\n",
    "            total_budget += j\n",
    "        return total_budget\n",
    "    except Exception as e:\n",
    "        print(\"An error has occured: \", e)"
   ]
  },
  {
   "cell_type": "code",
   "execution_count": 58,
   "id": "58caff0c",
   "metadata": {},
   "outputs": [
    {
     "name": "stdout",
     "output_type": "stream",
     "text": [
      "People's budget will be: 65700\n"
     ]
    }
   ],
   "source": [
    "Income=get_budget([{\"name\":\"John\", \"age\":21, \"budget\":23000}, {\"name\":\"Ashish\", \"age\":27, \"budget\":40000}, {\"name\":\"Simran\", \"age\":25, \"budget\":2700}])\n",
    "print(f\"People's budget will be: {Income}\")"
   ]
  },
  {
   "cell_type": "code",
   "execution_count": 59,
   "id": "ee2620bb",
   "metadata": {},
   "outputs": [],
   "source": [
    "#Method 2\n",
    "def get_budgets(lst):\n",
    "    \"\"\"Return the sum of budgets of people passed as dictionary in a list\"\"\"\n",
    "    try:\n",
    "        total_budget =0\n",
    "        for i in lst:\n",
    "            total_budget += i[\"budget\"]   \n",
    "        return total_budget\n",
    "    except Exception as e:\n",
    "        print(\"Error occured: \",e)"
   ]
  },
  {
   "cell_type": "code",
   "execution_count": 60,
   "id": "5bd35cfb",
   "metadata": {},
   "outputs": [
    {
     "data": {
      "text/plain": [
       "65700"
      ]
     },
     "execution_count": 60,
     "metadata": {},
     "output_type": "execute_result"
    }
   ],
   "source": [
    "get_budgets([{\"name\":\"John\", \"age\":21, \"budget\":23000}, {\"name\":\"Ashish\", \"age\":27, \"budget\":40000}, {\"name\":\"Simran\", \"age\":25, \"budget\":2700}])"
   ]
  },
  {
   "cell_type": "markdown",
   "id": "8de6fd74",
   "metadata": {},
   "source": [
    "##### Q-3.Create a function that takes a string and returns a string with its letters in alphabetical order."
   ]
  },
  {
   "cell_type": "code",
   "execution_count": 75,
   "id": "dac9ccdb",
   "metadata": {},
   "outputs": [],
   "source": [
    "def alphabet_soup(word):\n",
    "    change_to_list = list(word)\n",
    "    change_to_list.sort()\n",
    "    result = \"\".join(change_to_list)\n",
    "    final_result=result.lstrip()\n",
    "    return final_result"
   ]
  },
  {
   "cell_type": "code",
   "execution_count": 79,
   "id": "36849ff7",
   "metadata": {},
   "outputs": [
    {
     "data": {
      "text/plain": [
       "'!?Haeehhllnooooprtuwyy'"
      ]
     },
     "execution_count": 79,
     "metadata": {},
     "output_type": "execute_result"
    }
   ],
   "source": [
    "alphabet_soup(\"hello python! How are you?\")"
   ]
  },
  {
   "cell_type": "markdown",
   "id": "383274e2",
   "metadata": {},
   "source": [
    "##### Q-4. Suppose that you invest $10,000 for 10 years at an interest rate of 6% compounded monthly.\n",
    "What will be the value of your investment at the end of the 10 year period?\n",
    "Create a function that accepts the principal p, the term in years t, the interest rate r, and the\n",
    "number of compounding periods per year n. The function returns the value at the end of term\n",
    "rounded to the nearest cent."
   ]
  },
  {
   "cell_type": "code",
   "execution_count": 86,
   "id": "8e9ef575",
   "metadata": {},
   "outputs": [],
   "source": [
    "def compound_interest(P,t,r,n):\n",
    "    Amount = P*(1+r/n)**(n*t)\n",
    "    return round(Amount,2)"
   ]
  },
  {
   "cell_type": "code",
   "execution_count": 89,
   "id": "a2400296",
   "metadata": {},
   "outputs": [
    {
     "data": {
      "text/plain": [
       "2007316.26"
      ]
     },
     "execution_count": 89,
     "metadata": {},
     "output_type": "execute_result"
    }
   ],
   "source": [
    "compound_interest(100000,20,0.15,365)"
   ]
  },
  {
   "cell_type": "markdown",
   "id": "14c8d6dc",
   "metadata": {},
   "source": [
    "##### Q-5. Write a function that takes a list of elements and returns only the integers."
   ]
  },
  {
   "cell_type": "code",
   "execution_count": 93,
   "id": "c778c975",
   "metadata": {},
   "outputs": [],
   "source": [
    "def return_only_integer(list1):\n",
    "    filter_list=list(filter(lambda x:type(x)==int,list1))\n",
    "    return filter_list"
   ]
  },
  {
   "cell_type": "code",
   "execution_count": 94,
   "id": "fc3be892",
   "metadata": {},
   "outputs": [
    {
     "data": {
      "text/plain": [
       "[1, 2, 3]"
      ]
     },
     "execution_count": 94,
     "metadata": {},
     "output_type": "execute_result"
    }
   ],
   "source": [
    "return_only_integer([1,\"Asgus\", 2,\"supn\",3])"
   ]
  },
  {
   "cell_type": "code",
   "execution_count": null,
   "id": "0322906c",
   "metadata": {},
   "outputs": [],
   "source": []
  }
 ],
 "metadata": {
  "kernelspec": {
   "display_name": "Python 3 (ipykernel)",
   "language": "python",
   "name": "python3"
  },
  "language_info": {
   "codemirror_mode": {
    "name": "ipython",
    "version": 3
   },
   "file_extension": ".py",
   "mimetype": "text/x-python",
   "name": "python",
   "nbconvert_exporter": "python",
   "pygments_lexer": "ipython3",
   "version": "3.9.7"
  }
 },
 "nbformat": 4,
 "nbformat_minor": 5
}
