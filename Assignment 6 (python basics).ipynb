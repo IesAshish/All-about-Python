{
 "cells": [
  {
   "cell_type": "code",
   "execution_count": null,
   "id": "68ba3ce2",
   "metadata": {},
   "outputs": [],
   "source": [
    "1. What are escape characters, and how do you use them?\n",
    "Escape characters represent characters in string values that would be difficult or impossible to type into code if they are present.\n",
    "we use backslash (\\) followed by the characters we want to insert. "
   ]
  },
  {
   "cell_type": "code",
   "execution_count": null,
   "id": "0a873b0a",
   "metadata": {},
   "outputs": [],
   "source": [
    "2. What do the escape characters n and t stand for?\n",
    "\"\\n\" represents newline\n",
    "\"\\t\" represents tab"
   ]
  },
  {
   "cell_type": "code",
   "execution_count": null,
   "id": "93355043",
   "metadata": {},
   "outputs": [],
   "source": [
    "3. What is the way to include backslash characters in a string?\n",
    "we use \\\\ escape character for backslash in a character"
   ]
  },
  {
   "cell_type": "code",
   "execution_count": null,
   "id": "77ec8489",
   "metadata": {},
   "outputs": [],
   "source": [
    "4. The string \"Howl's Moving Castle\" is a correct value. Why isn't the single quote character in the word Howl's not escaped a problem?\n",
    "The single quote character in the word Howl's does not escape because we have used doubled quotes in the beginning and at the end. However it will escape the string if we have used double quotes inside the double quotes."
   ]
  },
  {
   "cell_type": "code",
   "execution_count": null,
   "id": "9fc28392",
   "metadata": {},
   "outputs": [],
   "source": [
    "5. How do you write a string of newlines if you don't want to use the n character?\n",
    "we will use multiline strings in a triple quotes  without using \\n escape character."
   ]
  },
  {
   "cell_type": "code",
   "execution_count": null,
   "id": "27687342",
   "metadata": {},
   "outputs": [],
   "source": [
    "6. What are the values of the given expressions?\n",
    "\"Hello, world!\"[1]\n",
    "This gives the character which is at the index 1 i.e. \"e\"\n",
    "\n",
    "\"Hello, world!\"[0:5]\n",
    "This gives the character up to index 4 from index 0 i.e. \"Hello\"\n",
    "\n",
    "\"Hello, world!\"[:5]\n",
    "This gives the character up to index 4 from index 0 which is not mentioned here but it automatically takes 0 in the begining if nothing is given i.e. \"Hello\"\n",
    "\n",
    "\"Hello, world!\"[3:]\n",
    "\"lo, world!\""
   ]
  },
  {
   "cell_type": "code",
   "execution_count": null,
   "id": "6ed51bad",
   "metadata": {},
   "outputs": [],
   "source": [
    "7. What are the values of the following expressions?\n",
    "\"Hello\".upper()\n",
    "Here we are using upper() function therefore it will uppercase the whole string as a result we get \"HELLO\"\n",
    "\n",
    "\"Hello\".upper().isupper()\n",
    "isupper() checks whether a string is in uppercase or not. If yes then it return True otherwise False.\n",
    "Here we get True\n",
    "\n",
    "\"Hello\".upper().lower()\n",
    "lower() makes the whole string into lowercases i.e. we get \"hello\"\n"
   ]
  },
  {
   "cell_type": "code",
   "execution_count": null,
   "id": "0bfa890b",
   "metadata": {},
   "outputs": [],
   "source": [
    "8. What are the values of the following expressions?\n",
    "'Remember, remember, the fifth of july.'.split()\n",
    "['Remember,', 'remember,', 'the', 'fifth', 'of', 'july.']\n",
    "\n",
    "\n",
    "\"-\".join(\"There can only one.\".split())\n",
    "\"There-can-only-one\""
   ]
  },
  {
   "cell_type": "code",
   "execution_count": null,
   "id": "3748ff00",
   "metadata": {},
   "outputs": [],
   "source": [
    "9. What are the methods for right-justifying, left-justifying, and centering a string?\n",
    "for right-justifying we use rjust\n",
    "for left -justifying we use ljust\n",
    "for center- we use center"
   ]
  },
  {
   "cell_type": "code",
   "execution_count": null,
   "id": "7baac31d",
   "metadata": {},
   "outputs": [],
   "source": [
    "10. What is the best way to remove whitespace characters from the start or end?\n",
    "lstrip() removes the whitespace from the left\n",
    "rstrip() removes the whitespace from the right"
   ]
  },
  {
   "cell_type": "code",
   "execution_count": null,
   "id": "4818177c",
   "metadata": {},
   "outputs": [],
   "source": []
  }
 ],
 "metadata": {
  "kernelspec": {
   "display_name": "Python 3 (ipykernel)",
   "language": "python",
   "name": "python3"
  },
  "language_info": {
   "codemirror_mode": {
    "name": "ipython",
    "version": 3
   },
   "file_extension": ".py",
   "mimetype": "text/x-python",
   "name": "python",
   "nbconvert_exporter": "python",
   "pygments_lexer": "ipython3",
   "version": "3.9.7"
  }
 },
 "nbformat": 4,
 "nbformat_minor": 5
}
