{
 "cells": [
  {
   "cell_type": "markdown",
   "id": "ceb92ae3",
   "metadata": {},
   "source": [
    "1. Write a Python program to find sum of elements in list?"
   ]
  },
  {
   "cell_type": "code",
   "execution_count": 1,
   "id": "70c56ef6",
   "metadata": {},
   "outputs": [],
   "source": [
    "def list_sum(l):\n",
    "    \"\"\"Returns sum of the whole list\"\"\"\n",
    "    total= 0\n",
    "    i=0\n",
    "    while i<len(l):\n",
    "        total += l[i]\n",
    "        i += 1\n",
    "    return total\n"
   ]
  },
  {
   "cell_type": "markdown",
   "id": "14c870a4",
   "metadata": {},
   "source": [
    "2. Write a Python program to Multiply all numbers in the list?"
   ]
  },
  {
   "cell_type": "code",
   "execution_count": 10,
   "id": "5edb79d7",
   "metadata": {},
   "outputs": [],
   "source": [
    "def list_multiply(l):\n",
    "    \"\"\"Returns multiplication of elements in the list\"\"\"\n",
    "    multiply = 1\n",
    "    i=0\n",
    "    while i<len(l):\n",
    "        multiply *=l[i]\n",
    "        i += 1\n",
    "    return multiply"
   ]
  },
  {
   "cell_type": "markdown",
   "id": "b69326d9",
   "metadata": {},
   "source": [
    "3. Write a Python program to find smallest number in a list?\n"
   ]
  },
  {
   "cell_type": "code",
   "execution_count": 38,
   "id": "9a8baeb9",
   "metadata": {},
   "outputs": [
    {
     "data": {
      "text/plain": [
       "5"
      ]
     },
     "execution_count": 38,
     "metadata": {},
     "output_type": "execute_result"
    }
   ],
   "source": [
    "def list_smallest(l):\n",
    "    \"\"\"Returns smallest of all elements in the list\"\"\"\n",
    "    min=l[0]\n",
    "    for i in l:\n",
    "        if i<min:\n",
    "            min = i\n",
    "    return min\n",
    "list_smallest([5,36,42,100])"
   ]
  },
  {
   "cell_type": "markdown",
   "id": "57a2e4e0",
   "metadata": {},
   "source": [
    "4. Write a Python program to find largest number in a list?"
   ]
  },
  {
   "cell_type": "code",
   "execution_count": 34,
   "id": "4d5a4b86",
   "metadata": {},
   "outputs": [],
   "source": [
    "def list_largest(l):\n",
    "    \"\"\"Return largest of all elements in the list\"\"\"\n",
    "    max = l[0]\n",
    "    for i in l:\n",
    "        if i>max:\n",
    "            max = i\n",
    "    return max\n",
    "\n",
    "list_largest([5,36,42,100])"
   ]
  },
  {
   "cell_type": "markdown",
   "id": "22db48ae",
   "metadata": {},
   "source": [
    "5. Write a Python program to find second largest number in a list?"
   ]
  },
  {
   "cell_type": "code",
   "execution_count": 100,
   "id": "0cba0985",
   "metadata": {},
   "outputs": [
    {
     "data": {
      "text/plain": [
       "2000"
      ]
     },
     "execution_count": 100,
     "metadata": {},
     "output_type": "execute_result"
    }
   ],
   "source": [
    "def second_largest(l):\n",
    "    \"\"\"Return second largest element in the list\"\"\"\n",
    "    largest = l[0]\n",
    "    secondlargest = l[0]\n",
    "    for i in range(len(l)):\n",
    "        if l[i]>largest:\n",
    "            largest = l[i]\n",
    "    for i in range(len(l)): \n",
    "        if l[i]>secondlargest and l[i]!=largest:\n",
    "            secondlargest = l[i]           \n",
    "    return secondlargest\n",
    "\n",
    "second_largest([10,99,2000,400,9000])"
   ]
  },
  {
   "cell_type": "markdown",
   "id": "73051e9f",
   "metadata": {},
   "source": [
    "6. Write a Python program to find N largest elements from a list?"
   ]
  },
  {
   "cell_type": "code",
   "execution_count": 99,
   "id": "3d146ec7",
   "metadata": {},
   "outputs": [],
   "source": [
    "def N_largest(l,n):\n",
    "    \"\"\"Return N largest element in the list\"\"\"\n",
    "    l.sort()\n",
    "    return (l[-n:])"
   ]
  },
  {
   "cell_type": "markdown",
   "id": "a704d82c",
   "metadata": {},
   "source": [
    "7. Write a Python program to print even numbers in a list?"
   ]
  },
  {
   "cell_type": "code",
   "execution_count": 103,
   "id": "dbf237c1",
   "metadata": {},
   "outputs": [],
   "source": [
    "def list_even(l):\n",
    "    \"\"\"Return even numbers in a list\"\"\"\n",
    "    l1=[]\n",
    "    for i in range(len(l)):\n",
    "        if l[i]%2==0:\n",
    "            l1.append(l[i])\n",
    "    return l1\n",
    "\n",
    "list_even([564,-45,369,485,78,698])"
   ]
  },
  {
   "cell_type": "markdown",
   "id": "d063e9b3",
   "metadata": {},
   "source": [
    "8.Write a Python program to print odd numbers in a List?"
   ]
  },
  {
   "cell_type": "code",
   "execution_count": 109,
   "id": "8244a675",
   "metadata": {},
   "outputs": [],
   "source": [
    "def list_odd(l):\n",
    "    \"\"\"Return odd numbers in a list\"\"\"\n",
    "    l1=[]\n",
    "    i=0\n",
    "    while i<len(l):\n",
    "        if l[i]%2==1:\n",
    "            l1.append(l[i])\n",
    "        i+=1\n",
    "    return l1\n",
    "\n",
    "list_odd([564,-45,369,485,78,698])"
   ]
  },
  {
   "cell_type": "markdown",
   "id": "bc778b6f",
   "metadata": {},
   "source": [
    "9. Write a Python program to Remove empty List from List?"
   ]
  },
  {
   "cell_type": "code",
   "execution_count": 127,
   "id": "34b4a069",
   "metadata": {},
   "outputs": [],
   "source": [
    "def list_remove(l):\n",
    "    \"\"\"Remove the empty list from list\"\"\"\n",
    "    new_list=[]\n",
    "    for i in l:\n",
    "        if i!=[]:\n",
    "            new_list.append(i)    \n",
    "    return new_list\n",
    "\n",
    "list_remove([1, 2, 3, 4, [], []])"
   ]
  },
  {
   "cell_type": "markdown",
   "id": "9069cfcf",
   "metadata": {},
   "source": [
    "10. Write a Python program to Cloning or Copying a list?"
   ]
  },
  {
   "cell_type": "code",
   "execution_count": 143,
   "id": "d8b58be4",
   "metadata": {},
   "outputs": [
    {
     "data": {
      "text/plain": [
       "[0, 1, 2, 3, 4, (56, 56.6, (56+5j))]"
      ]
     },
     "execution_count": 143,
     "metadata": {},
     "output_type": "execute_result"
    }
   ],
   "source": [
    "def cloning(l):\n",
    "    l_copy=[]\n",
    "    l_copy.extend(l)\n",
    "    return l_copy\n",
    "\n",
    "cloning([0,1,2,3,4,(56,56.6,56+5j)])"
   ]
  },
  {
   "cell_type": "markdown",
   "id": "0701c018",
   "metadata": {},
   "source": [
    "11. Write a Python program to Count occurrences of an element in a list?"
   ]
  },
  {
   "cell_type": "code",
   "execution_count": 140,
   "id": "dd591061",
   "metadata": {},
   "outputs": [],
   "source": [
    "def list_count(l,c):\n",
    "    \"\"\"Return the occurrences of an element in a list\"\"\"\n",
    "    k=0\n",
    "    for i in l:\n",
    "        if c==i:\n",
    "            k+=1\n",
    "    return k\n",
    "        \n",
    "list_count([1,1,1,2,2,2,3,3,3,3,4],3)"
   ]
  },
  {
   "cell_type": "code",
   "execution_count": null,
   "id": "120d9f22",
   "metadata": {},
   "outputs": [],
   "source": []
  }
 ],
 "metadata": {
  "kernelspec": {
   "display_name": "Python 3 (ipykernel)",
   "language": "python",
   "name": "python3"
  },
  "language_info": {
   "codemirror_mode": {
    "name": "ipython",
    "version": 3
   },
   "file_extension": ".py",
   "mimetype": "text/x-python",
   "name": "python",
   "nbconvert_exporter": "python",
   "pygments_lexer": "ipython3",
   "version": "3.9.7"
  }
 },
 "nbformat": 4,
 "nbformat_minor": 5
}
