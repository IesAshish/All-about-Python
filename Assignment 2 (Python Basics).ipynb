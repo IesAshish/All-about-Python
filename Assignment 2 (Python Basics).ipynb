{
 "cells": [
  {
   "cell_type": "code",
   "execution_count": null,
   "id": "6254d75e",
   "metadata": {},
   "outputs": [],
   "source": [
    "#1.What are the two values of the Boolean data type? How do you write them?\n",
    "Two values of the boolean data type is True and False using capital T and F and remaining alphabets in lowercase."
   ]
  },
  {
   "cell_type": "code",
   "execution_count": null,
   "id": "9c1cf404",
   "metadata": {},
   "outputs": [],
   "source": [
    "#2. What are the three different types of Boolean operators?\n",
    "Three types of boolean operators are; and, or, not"
   ]
  },
  {
   "cell_type": "code",
   "execution_count": null,
   "id": "87b35ddd",
   "metadata": {},
   "outputs": [],
   "source": [
    "#3. Make a list of each Boolean operator's truth tables (i.e. every possible combination of Boolean values for the operator and what it evaluate ).\n",
    "True and True is True\n",
    "True and False is False \n",
    "False and True is False\n",
    "False and False is False\n",
    "True or True is True\n",
    "True or False is True\n",
    "False or True is True\n",
    "False or False is False\n",
    "not True is False\n",
    "not False is True"
   ]
  },
  {
   "cell_type": "code",
   "execution_count": null,
   "id": "63c17007",
   "metadata": {},
   "outputs": [],
   "source": [
    "#4. What are the values of the following expressions?\n",
    "(5>4) and (3==5) is False\n",
    "not (5>4) is False\n",
    "(5>4) or (3==5) is True\n",
    "not ((5>4) or (3 == 5)) is False\n",
    "(True and True) and (True == False) is False\n",
    "(not False) or (not True) is True"
   ]
  },
  {
   "cell_type": "code",
   "execution_count": null,
   "id": "f91210fa",
   "metadata": {},
   "outputs": [],
   "source": [
    "#5. What are the six comparison operators?\n",
    "==, !=, <, >, <=, and >="
   ]
  },
  {
   "cell_type": "code",
   "execution_count": null,
   "id": "0d4266e4",
   "metadata": {},
   "outputs": [],
   "source": [
    "#6. How do you tell the difference between the equal to and assignment operators?Describe a condition and when you would use one.\n",
    "== is the equal to operator that compares two values and evaluates to a Boolean \n",
    "while = is the assignment operator that stores a value in a variable."
   ]
  },
  {
   "cell_type": "code",
   "execution_count": null,
   "id": "a9ab7699",
   "metadata": {},
   "outputs": [],
   "source": [
    "#7. Identify the three blocks in this code:\n",
    "spam = 0\n",
    "if spam == 10:\n",
    "print('eggs')\n",
    "if spam>5:\n",
    "print('bacon')\n",
    "else:\n",
    "print('ham')\n",
    "print('spam')\n",
    "print('spam')\n",
    "\n",
    "Three blocks are everything inside the if statment and indentation blocks in line print('bacon') and print('spam')\n",
    "spam =0\n",
    "if spam>5:\n",
    "    print('bacon')\n",
    "else:\n",
    "    print(\"ham\")\n",
    "    print('spam')"
   ]
  },
  {
   "cell_type": "code",
   "execution_count": null,
   "id": "d0d0e802",
   "metadata": {},
   "outputs": [],
   "source": [
    "#8. Write code that prints Hello if 1 is stored in spam, prints Howdy if 2 is stored in spam, and prints Greetings! if anything else is stored in spam.\n",
    "spam=0\n",
    "if spam==1:\n",
    "    print('Hello')\n",
    "elif spam==2:\n",
    "    print('Howdy')\n",
    "else:\n",
    "    print(\"greeting!\")"
   ]
  },
  {
   "cell_type": "code",
   "execution_count": null,
   "id": "10536924",
   "metadata": {},
   "outputs": [],
   "source": [
    "#9.If your programme is stuck in an endless loop, what keys you’ll press?\n",
    "Press Ctrl+C to stop the endless loop\n"
   ]
  },
  {
   "cell_type": "code",
   "execution_count": null,
   "id": "ec94f6d1",
   "metadata": {},
   "outputs": [],
   "source": [
    "#10. How can you tell the difference between break and continue?\n",
    "Break statement is used to terminate the loop in which it is present.  \n",
    "After that, the control will pass to the statements that are present after the break statement, if available. \n",
    "If the break statement is present in the nested loop, then it terminates only those loops which contains break statement.\n",
    "Continue statement instead of terminating the loop, it forces to execute the next iteration of the loop."
   ]
  },
  {
   "cell_type": "code",
   "execution_count": null,
   "id": "059e0544",
   "metadata": {},
   "outputs": [],
   "source": [
    "#11. In a for loop, what is the difference between range(10), range(0, 10), and range(0, 10, 1)?\n"
   ]
  },
  {
   "cell_type": "code",
   "execution_count": 1,
   "id": "202fbc12",
   "metadata": {},
   "outputs": [
    {
     "name": "stdout",
     "output_type": "stream",
     "text": [
      "0\n",
      "1\n",
      "2\n",
      "3\n",
      "4\n",
      "5\n",
      "6\n",
      "7\n",
      "8\n",
      "9\n"
     ]
    }
   ],
   "source": [
    "for i in range(10):\n",
    "    print(i)"
   ]
  },
  {
   "cell_type": "code",
   "execution_count": 2,
   "id": "b5fbcfd4",
   "metadata": {},
   "outputs": [
    {
     "name": "stdout",
     "output_type": "stream",
     "text": [
      "0\n",
      "1\n",
      "2\n",
      "3\n",
      "4\n",
      "5\n",
      "6\n",
      "7\n",
      "8\n",
      "9\n"
     ]
    }
   ],
   "source": [
    "for i in range(0,10):\n",
    "    print(i)"
   ]
  },
  {
   "cell_type": "code",
   "execution_count": 3,
   "id": "9a6221e5",
   "metadata": {},
   "outputs": [
    {
     "name": "stdout",
     "output_type": "stream",
     "text": [
      "0\n",
      "1\n",
      "2\n",
      "3\n",
      "4\n",
      "5\n",
      "6\n",
      "7\n",
      "8\n",
      "9\n"
     ]
    }
   ],
   "source": [
    "for i in range(0,10,1):\n",
    "    print(i)"
   ]
  },
  {
   "cell_type": "code",
   "execution_count": null,
   "id": "e6b2b615",
   "metadata": {},
   "outputs": [],
   "source": [
    "They all do the same thing i.e. the range(10) call ranges from 0 to 10 excluding 10\n",
    "range(0,10) call ranges start from 0 exlcuding 10\n",
    "range(0,10,1) explicitly tells the loop to increase the variable by 1 in each iteration excluding 10."
   ]
  },
  {
   "cell_type": "code",
   "execution_count": 5,
   "id": "d5af8b80",
   "metadata": {},
   "outputs": [
    {
     "name": "stdout",
     "output_type": "stream",
     "text": [
      "1\n",
      "2\n",
      "3\n",
      "4\n",
      "5\n",
      "6\n",
      "7\n",
      "8\n",
      "9\n",
      "10\n"
     ]
    }
   ],
   "source": [
    "#12. Write a short program that prints the numbers 1 to 10 using a for loop. Then write an equivalent program that prints the numbers 1 to 10 using a while loop.\n",
    "for i in range(1,11):\n",
    "    print(i)"
   ]
  },
  {
   "cell_type": "code",
   "execution_count": 6,
   "id": "0cdebaf6",
   "metadata": {},
   "outputs": [
    {
     "name": "stdout",
     "output_type": "stream",
     "text": [
      "1\n",
      "2\n",
      "3\n",
      "4\n",
      "5\n",
      "6\n",
      "7\n",
      "8\n",
      "9\n",
      "10\n"
     ]
    }
   ],
   "source": [
    "i=1\n",
    "while i<=10:\n",
    "    print(i)\n",
    "    i=i+1"
   ]
  },
  {
   "cell_type": "code",
   "execution_count": null,
   "id": "1053608e",
   "metadata": {},
   "outputs": [],
   "source": [
    "#13. If you had a function named bacon() inside a module named spam, how would you call it after importing spam?\n",
    "By typing spam.bacon()"
   ]
  },
  {
   "cell_type": "code",
   "execution_count": null,
   "id": "ccb945dd",
   "metadata": {},
   "outputs": [],
   "source": []
  }
 ],
 "metadata": {
  "kernelspec": {
   "display_name": "Python 3 (ipykernel)",
   "language": "python",
   "name": "python3"
  },
  "language_info": {
   "codemirror_mode": {
    "name": "ipython",
    "version": 3
   },
   "file_extension": ".py",
   "mimetype": "text/x-python",
   "name": "python",
   "nbconvert_exporter": "python",
   "pygments_lexer": "ipython3",
   "version": "3.9.7"
  }
 },
 "nbformat": 4,
 "nbformat_minor": 5
}
