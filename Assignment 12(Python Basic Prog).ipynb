{
 "cells": [
  {
   "cell_type": "markdown",
   "id": "bb56b23c",
   "metadata": {},
   "source": [
    "##### 1. Write a Python program to Extract Unique values dictionary values?"
   ]
  },
  {
   "cell_type": "code",
   "execution_count": 22,
   "id": "de0fcaf4",
   "metadata": {},
   "outputs": [
    {
     "data": {
      "text/plain": [
       "[1, 2, 3, 4, 5, 6, 7, 8, 10, 12]"
      ]
     },
     "execution_count": 22,
     "metadata": {},
     "output_type": "execute_result"
    }
   ],
   "source": [
    "dict1 = {'A' : [1, 3, 5, 4],\n",
    "             'B' : [4, 6, 8, 10],\n",
    "             'C' : [6, 12, 4 ,8],\n",
    "             'D' : [5, 7, 2]}\n",
    "list(sorted({j for i in dict1.values() for j in i}))"
   ]
  },
  {
   "cell_type": "markdown",
   "id": "2ec6a4f8",
   "metadata": {},
   "source": [
    "##### 2. Write a Python program to find the sum of all items in a dictionary?"
   ]
  },
  {
   "cell_type": "code",
   "execution_count": 43,
   "id": "393ff21a",
   "metadata": {},
   "outputs": [],
   "source": [
    "def dict_sum(dict1):\n",
    "    sum = 0\n",
    "    for i in dict1.values():\n",
    "        sum +=i\n",
    "    return sum\n"
   ]
  },
  {
   "cell_type": "markdown",
   "id": "8d3b9e4d",
   "metadata": {},
   "source": [
    "##### 3. Write a Python program to Merging two Dictionaries?"
   ]
  },
  {
   "cell_type": "code",
   "execution_count": 63,
   "id": "b5da1f32",
   "metadata": {},
   "outputs": [
    {
     "name": "stdout",
     "output_type": "stream",
     "text": [
      "Merged Dictionary is {'a': [1, 2, 2, 3], 'b': (4, 5, 6), 'c': {8, 4, 14}, 'd': 4, 'e': 5, 'f': 6}\n"
     ]
    }
   ],
   "source": [
    "a = {\"a\":[1,2,2,3],\"b\":(4,5,6),\"c\":{4,8,14}}\n",
    "b={\"d\":4,\"e\":5,\"f\":6}\n",
    "a.update(b)\n",
    "print(f\"Merged Dictionary is {a}\")"
   ]
  },
  {
   "cell_type": "markdown",
   "id": "bf5b3a20",
   "metadata": {},
   "source": [
    "##### 4. Write a Python program to convert key-values list to flat dictionary?\n",
    "* A dictionary can be flattened by pairing the same index elements together."
   ]
  },
  {
   "cell_type": "code",
   "execution_count": 74,
   "id": "15288a66",
   "metadata": {},
   "outputs": [
    {
     "name": "stdout",
     "output_type": "stream",
     "text": [
      "Flattened dictionary is {'Rohini': 19, 'Madan': 20, 'Shyam': 23, 'Ram': 25}\n"
     ]
    }
   ],
   "source": [
    "dict1 = {\"Name\":[\"Rohini\", \"Madan\", \"Shyam\",\"Ram\", \"Seeta\"], \"Age\":[19,20,23,25]}\n",
    "result = dict(zip(dict1[\"Name\"],dict1[\"Age\"]))\n",
    "print(f\"Flattened dictionary is {result}\")"
   ]
  },
  {
   "cell_type": "markdown",
   "id": "f6451132",
   "metadata": {},
   "source": [
    "##### 5. Write a Python program to insertion at the beginning in OrderedDict?"
   ]
  },
  {
   "cell_type": "code",
   "execution_count": 83,
   "id": "bd4b891b",
   "metadata": {},
   "outputs": [
    {
     "name": "stdout",
     "output_type": "stream",
     "text": [
      "OrderedDict([('Mob', 123456789), ('Name', 'Ram'), ('Age', 29), ('Add', 'Chennai'), ('email', 'ram@ymail.com')])\n"
     ]
    }
   ],
   "source": [
    "from collections import OrderedDict\n",
    "dict1 = OrderedDict([(\"Name\",\"Ram\"),(\"Age\",29), (\"Add\",\"Chennai\"), (\"email\",\"ram@ymail.com\")])\n",
    "dict1.update({\"Mob\":123456789})\n",
    "#move_to_end()-item is moved to the right end if last is true (the default) or to the beginning if last is false\n",
    "dict1.move_to_end(\"Mob\", last = False)\n",
    "print(dict1)\n"
   ]
  },
  {
   "cell_type": "markdown",
   "id": "10268b43",
   "metadata": {},
   "source": [
    "##### 6. Write a Python program to check order of character in string using OrderedDict()?"
   ]
  },
  {
   "cell_type": "code",
   "execution_count": 102,
   "id": "387c98e6",
   "metadata": {},
   "outputs": [],
   "source": [
    "from collections import OrderedDict\n",
    "def dict_char_match(word, pattern):\n",
    "    dic = OrderedDict.fromkeys(word)\n",
    "    initial = 0\n",
    "    for key in dic.items():\n",
    "        if(key==pattern[initial]):\n",
    "            initial+=1\n",
    "        if (initial == (len(pattern))): \n",
    "            return 'True'\n",
    "    return 'False'\n",
    " \n"
   ]
  },
  {
   "cell_type": "markdown",
   "id": "02732b20",
   "metadata": {},
   "source": [
    "##### 7. Write a Python program to sort Python Dictionaries by Key or Value?"
   ]
  },
  {
   "cell_type": "code",
   "execution_count": 108,
   "id": "7ec3b0a9",
   "metadata": {},
   "outputs": [
    {
     "name": "stdout",
     "output_type": "stream",
     "text": [
      "('a', 63)\n",
      "('b', 14)\n",
      "('c', 78)\n",
      "('d', 25)\n",
      "('k', 44)\n"
     ]
    }
   ],
   "source": [
    "test_dic = {}\n",
    "test_dic[\"a\"]=63\n",
    "test_dic[\"k\"]=44\n",
    "test_dic[\"b\"]=14\n",
    "test_dic[\"d\"]=25\n",
    "test_dic[\"c\"]=78\n",
    "for i in sorted(test_dic):\n",
    "    print((i,test_dic[i]))"
   ]
  },
  {
   "cell_type": "code",
   "execution_count": null,
   "id": "82ce5aca",
   "metadata": {},
   "outputs": [],
   "source": []
  }
 ],
 "metadata": {
  "kernelspec": {
   "display_name": "Python 3 (ipykernel)",
   "language": "python",
   "name": "python3"
  },
  "language_info": {
   "codemirror_mode": {
    "name": "ipython",
    "version": 3
   },
   "file_extension": ".py",
   "mimetype": "text/x-python",
   "name": "python",
   "nbconvert_exporter": "python",
   "pygments_lexer": "ipython3",
   "version": "3.9.7"
  }
 },
 "nbformat": 4,
 "nbformat_minor": 5
}
