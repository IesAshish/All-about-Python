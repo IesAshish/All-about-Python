{
 "cells": [
  {
   "cell_type": "markdown",
   "id": "34c13741",
   "metadata": {},
   "source": [
    "##### Q-1. Create a function that takes three arguments a, b, c and returns the sum of the numbers that are evenly divided by c from the range a, b inclusive."
   ]
  },
  {
   "cell_type": "code",
   "execution_count": 38,
   "id": "e4acf5e8",
   "metadata": {},
   "outputs": [],
   "source": [
    "def evenly_divisible(num1,num2,num3):\n",
    "    sum = 0\n",
    "    try:\n",
    "        for i in range(num1,num2+1):\n",
    "            if i%num3==0:\n",
    "                sum +=i\n",
    "        return sum\n",
    "    except Exception as e:\n",
    "        print(e)"
   ]
  },
  {
   "cell_type": "code",
   "execution_count": 39,
   "id": "976b3bf8",
   "metadata": {},
   "outputs": [
    {
     "data": {
      "text/plain": [
       "18"
      ]
     },
     "execution_count": 39,
     "metadata": {},
     "output_type": "execute_result"
    }
   ],
   "source": [
    "evenly_divisible(1,10,3)"
   ]
  },
  {
   "cell_type": "markdown",
   "id": "64620655",
   "metadata": {},
   "source": [
    "##### Q-2. Create a function that returns True if a given inequality expression is correct and False otherwise."
   ]
  },
  {
   "cell_type": "code",
   "execution_count": 18,
   "id": "2c3bc9e0",
   "metadata": {},
   "outputs": [],
   "source": [
    "def correct_signs(inequality):\n",
    "    result = eval(inequality)\n",
    "    return result"
   ]
  },
  {
   "cell_type": "code",
   "execution_count": 24,
   "id": "5286205f",
   "metadata": {},
   "outputs": [
    {
     "data": {
      "text/plain": [
       "False"
      ]
     },
     "execution_count": 24,
     "metadata": {},
     "output_type": "execute_result"
    }
   ],
   "source": [
    "correct_signs(\"3<5<8>12\")"
   ]
  },
  {
   "cell_type": "markdown",
   "id": "538e6813",
   "metadata": {},
   "source": [
    "##### Q-3.Create a function that replaces all the vowels in a string with a specified character."
   ]
  },
  {
   "cell_type": "code",
   "execution_count": 40,
   "id": "6ac26cf5",
   "metadata": {},
   "outputs": [],
   "source": [
    "def replace_vowels(words, char):\n",
    "    vowels = \"AaEeIiOoUu\"\n",
    "    try:\n",
    "        for alphabet in words:\n",
    "            if alphabet in vowels:\n",
    "                words = words.replace(alphabet, char)\n",
    "        return words\n",
    "    except Exception as e:\n",
    "        print(e)"
   ]
  },
  {
   "cell_type": "code",
   "execution_count": 41,
   "id": "56265068",
   "metadata": {},
   "outputs": [
    {
     "data": {
      "text/plain": [
       "'$r$ng$'"
      ]
     },
     "execution_count": 41,
     "metadata": {},
     "output_type": "execute_result"
    }
   ],
   "source": [
    "replace_vowels(\"OrAnge\",\"$\")"
   ]
  },
  {
   "cell_type": "markdown",
   "id": "2da8d0b2",
   "metadata": {},
   "source": [
    "##### Q-4. Write a function that calculates the factorial of a number recursively."
   ]
  },
  {
   "cell_type": "code",
   "execution_count": 42,
   "id": "790b3852",
   "metadata": {},
   "outputs": [],
   "source": [
    "def factorial(num, facto=1,temp=1):\n",
    "    facto = facto*temp\n",
    "    try:\n",
    "        if temp<num:\n",
    "            temp+=1\n",
    "            return factorial(num, facto, temp)\n",
    "        else:\n",
    "            return facto\n",
    "    except Exception as e:\n",
    "        print(e)\n",
    "    "
   ]
  },
  {
   "cell_type": "markdown",
   "id": "319c14af",
   "metadata": {},
   "source": [
    "##### Q-5. Hamming distance is the number of characters that differ between two strings.\n",
    "To illustrate:\n",
    "String1: \"abcbba\"\n",
    "String2: \"abcbda\"\n",
    "Hamming Distance: 1 - \"b\" vs. \"d\" is the only difference.\n",
    "##### Create a function that computes the hamming distance between two strings."
   ]
  },
  {
   "cell_type": "code",
   "execution_count": 45,
   "id": "0bd716c8",
   "metadata": {},
   "outputs": [],
   "source": [
    "def hamming_distance(str1, str2):\n",
    "    count = 0\n",
    "    try:\n",
    "        if len(str1)==len(str2):\n",
    "            for i in range(len(str1)):\n",
    "                if str1[i]!=str2[i]:\n",
    "                    count+=1\n",
    "            return count\n",
    "        else:\n",
    "            return \"You have made a mistake\"\n",
    "    except Exception as e:\n",
    "        print(e)"
   ]
  },
  {
   "cell_type": "code",
   "execution_count": 46,
   "id": "a1b70cb5",
   "metadata": {},
   "outputs": [
    {
     "data": {
      "text/plain": [
       "5"
      ]
     },
     "execution_count": 46,
     "metadata": {},
     "output_type": "execute_result"
    }
   ],
   "source": [
    "hamming_distance(\"abcde\",\"bcdea\")"
   ]
  },
  {
   "cell_type": "code",
   "execution_count": null,
   "id": "d6941c6d",
   "metadata": {},
   "outputs": [],
   "source": []
  }
 ],
 "metadata": {
  "kernelspec": {
   "display_name": "Python 3 (ipykernel)",
   "language": "python",
   "name": "python3"
  },
  "language_info": {
   "codemirror_mode": {
    "name": "ipython",
    "version": 3
   },
   "file_extension": ".py",
   "mimetype": "text/x-python",
   "name": "python",
   "nbconvert_exporter": "python",
   "pygments_lexer": "ipython3",
   "version": "3.9.7"
  }
 },
 "nbformat": 4,
 "nbformat_minor": 5
}
