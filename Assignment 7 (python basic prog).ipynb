{
 "cells": [
  {
   "cell_type": "markdown",
   "id": "89cd62c7",
   "metadata": {},
   "source": [
    "1. Write a python program to find the sum of array?"
   ]
  },
  {
   "cell_type": "code",
   "execution_count": 16,
   "id": "df51c531",
   "metadata": {},
   "outputs": [
    {
     "name": "stdout",
     "output_type": "stream",
     "text": [
      "Enter the length of an array: 3\n",
      "Enter the element of array: 1\n",
      "Enter the element of array: 2\n",
      "Enter the element of array: 3\n",
      "Your required array is: array('i', [1, 2, 3])\n",
      "Sum of the array is: 6\n"
     ]
    }
   ],
   "source": [
    "from array import *\n",
    "n = int(input(\"Enter the length of an array: \"))\n",
    "a = array(\"i\", [])\n",
    "for j in range(n):\n",
    "    x = int(input(\"Enter the element of array: \"))\n",
    "    a.append(x)\n",
    "    b=sum(a)\n",
    "print(f\"Your required array is: {a}\")\n",
    "print(f\"Sum of the array is: {b}\")\n"
   ]
  },
  {
   "cell_type": "markdown",
   "id": "4596bc7b",
   "metadata": {},
   "source": [
    "2. Write a Python Program to find largest element in an array?"
   ]
  },
  {
   "cell_type": "code",
   "execution_count": 1,
   "id": "de2de296",
   "metadata": {},
   "outputs": [],
   "source": [
    "# here n will be the lenght of that array\n",
    "def largest(arr):\n",
    "    \"\"\"Returns the largest value in an array\"\"\"\n",
    "    #we need to intialise first, for that we have assume first element be the max\n",
    "    max = arr[0]\n",
    "    n = len(arr)\n",
    "    # now we need to use loop \n",
    "    for i in range(1,n):\n",
    "        # checking whether max we assume is greater or not. If not then we swap it with that value which is max\n",
    "        if arr[i]> max:\n",
    "            max = arr[i]\n",
    "    return max"
   ]
  },
  {
   "cell_type": "markdown",
   "id": "6e969e65",
   "metadata": {},
   "source": [
    "3. Write a Python Program for array rotation?"
   ]
  },
  {
   "cell_type": "code",
   "execution_count": 46,
   "id": "3855542e",
   "metadata": {},
   "outputs": [],
   "source": [
    "def arr_rot(arr, n,k):\n",
    "    \"\"\"Returns for array rotation\"\"\"\n",
    "    # n is my array length and k is number of rotation we want\n",
    "    k = k%n\n",
    "    if k<0:\n",
    "        k=k+n\n",
    "    for i in range(k):\n",
    "        # we have create a temp variable for last digit\n",
    "        temp =arr[n-1]\n",
    "        # here we introduced loop as we want reverse the elements\n",
    "        for j in reversed(range(n-1)):\n",
    "            # assigning value of jth to j+1th\n",
    "            arr[j+1]=arr[j]\n",
    "        arr[0]= temp\n",
    "    return arr\n"
   ]
  },
  {
   "cell_type": "markdown",
   "id": "d231448f",
   "metadata": {},
   "source": [
    "4. Write a Python Program to Split the array and add the first part to the end?"
   ]
  },
  {
   "cell_type": "code",
   "execution_count": 80,
   "id": "ba6b89ab",
   "metadata": {},
   "outputs": [
    {
     "data": {
      "text/plain": [
       "[4, 5, 6, 1, 2, 3]"
      ]
     },
     "execution_count": 80,
     "metadata": {},
     "output_type": "execute_result"
    }
   ],
   "source": [
    "def splitArray(arr, n, k):\n",
    "    \"\"\"split the array and add it to the end\"\"\"\n",
    "    k = k%n\n",
    "    for i in range(k):\n",
    "        temp= arr[0]\n",
    "        for j in range(n-1):\n",
    "            arr[j]=arr[j+1]\n",
    "        arr[n-1]=temp\n",
    "    return arr\n",
    "splitArray([1,2,3,4,5,6],6,3)"
   ]
  },
  {
   "cell_type": "markdown",
   "id": "57fbd679",
   "metadata": {},
   "source": [
    "5. Write a Python Program to check if given array is Monotonic?"
   ]
  },
  {
   "cell_type": "code",
   "execution_count": 90,
   "id": "25376df6",
   "metadata": {},
   "outputs": [],
   "source": [
    "# An Array is monotone increasing if for all i<=j i.e. A[i]<=A[j]\n",
    "# An Array is monotone decreasing if for all i>=j i.e. A[i]>=A[j]\n",
    "def isMonotone(arr):\n",
    "    \"\"\"Returns whether an array is monotonic or not\"\"\"\n",
    "    n = len(arr)\n",
    "    if n==1:\n",
    "        return True\n",
    "    else:\n",
    "        if all(arr[i]<=arr[i+1] for i in range(n-1)):\n",
    "            return \"monotone increasing\" \n",
    "        elif all(arr[i]>=arr[i+1] for i in range(n-1)): \n",
    "            return \"monotone decreasing\" \n",
    "        else:\n",
    "            return \"Not a Monotonic Array\"\n",
    "\n",
    "        \n",
    "isMonotonic([1,2,3,4,5,6])\n",
    "        "
   ]
  },
  {
   "cell_type": "code",
   "execution_count": null,
   "id": "594ce812",
   "metadata": {},
   "outputs": [],
   "source": []
  }
 ],
 "metadata": {
  "kernelspec": {
   "display_name": "Python 3 (ipykernel)",
   "language": "python",
   "name": "python3"
  },
  "language_info": {
   "codemirror_mode": {
    "name": "ipython",
    "version": 3
   },
   "file_extension": ".py",
   "mimetype": "text/x-python",
   "name": "python",
   "nbconvert_exporter": "python",
   "pygments_lexer": "ipython3",
   "version": "3.9.7"
  }
 },
 "nbformat": 4,
 "nbformat_minor": 5
}
