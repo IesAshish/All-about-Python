{
 "cells": [
  {
   "cell_type": "code",
   "execution_count": 1,
   "id": "4fe437aa",
   "metadata": {},
   "outputs": [
    {
     "name": "stdout",
     "output_type": "stream",
     "text": [
      "Hello Python\n"
     ]
    }
   ],
   "source": [
    "#1. Write a Python program to print \"Hello Python\"?\n",
    "word=\"Hello Python\"\n",
    "print(word)"
   ]
  },
  {
   "cell_type": "code",
   "execution_count": 9,
   "id": "eec23ba2",
   "metadata": {},
   "outputs": [
    {
     "name": "stdout",
     "output_type": "stream",
     "text": [
      "Enter Your Input 1: 6.5\n",
      "Enter Your Input 2: 3.2\n",
      "\n",
      "\n",
      "Addition is:  9.70\n",
      "\n",
      "\n",
      "Division is:  2.03\n"
     ]
    }
   ],
   "source": [
    "#2. write a Python program to do arithmetical operations addition and division?\n",
    "Number_1=float(input(\"Enter Your Input 1: \"))\n",
    "Number_2=float(input(\"Enter Your Input 2: \"))\n",
    "print('\\n')\n",
    "#Here i use %0.2f to round off the result upto two decimal places\n",
    "print(\"Addition is: \",\"%0.2f\" %(Number_1+Number_2))\n",
    "print('\\n')\n",
    "print(\"Division is: \",\"%0.2f\" %(Number_1/Number_2))"
   ]
  },
  {
   "cell_type": "code",
   "execution_count": 11,
   "id": "b3fe80eb",
   "metadata": {},
   "outputs": [
    {
     "name": "stdout",
     "output_type": "stream",
     "text": [
      "Enter Triangle Height= 65\n",
      "Enter Triangle Base= 41\n",
      "\n",
      "\n",
      "Your Triangle Area = 1332.5\n"
     ]
    }
   ],
   "source": [
    "#3. Write a Python program to find the area of a triangle?\n",
    "height= int(input(\"Enter Triangle Height= \"))\n",
    "base = int(input(\"Enter Triangle Base= \"))\n",
    "Area = 0.5*height*base\n",
    "print(\"\\n\")\n",
    "print(\"Your Triangle Area\",\"=\",Area)"
   ]
  },
  {
   "cell_type": "code",
   "execution_count": 13,
   "id": "822c8d17",
   "metadata": {},
   "outputs": [
    {
     "name": "stdout",
     "output_type": "stream",
     "text": [
      "swap value of x= 5\n",
      "swap value of y= 10\n"
     ]
    }
   ],
   "source": [
    "#4. Write a python program to swap two variables?\n",
    "x=10\n",
    "y=5\n",
    "x,y=y,x\n",
    "print(\"swap value of x=\", x)\n",
    "print(\"swap value of y=\", y)"
   ]
  },
  {
   "cell_type": "code",
   "execution_count": 10,
   "id": "2161f511",
   "metadata": {},
   "outputs": [
    {
     "name": "stdout",
     "output_type": "stream",
     "text": [
      "random number is  76\n"
     ]
    }
   ],
   "source": [
    "#5.Write a Python program to generate a random number?\n",
    "import random\n",
    "print(\"random number is \",random.randrange(0,100,2))"
   ]
  },
  {
   "cell_type": "code",
   "execution_count": null,
   "id": "0130bc64",
   "metadata": {},
   "outputs": [],
   "source": []
  }
 ],
 "metadata": {
  "kernelspec": {
   "display_name": "Python 3 (ipykernel)",
   "language": "python",
   "name": "python3"
  },
  "language_info": {
   "codemirror_mode": {
    "name": "ipython",
    "version": 3
   },
   "file_extension": ".py",
   "mimetype": "text/x-python",
   "name": "python",
   "nbconvert_exporter": "python",
   "pygments_lexer": "ipython3",
   "version": "3.9.7"
  }
 },
 "nbformat": 4,
 "nbformat_minor": 5
}
