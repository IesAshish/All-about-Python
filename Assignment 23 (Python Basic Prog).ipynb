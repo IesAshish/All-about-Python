{
 "cells": [
  {
   "cell_type": "markdown",
   "id": "1373eca6",
   "metadata": {},
   "source": [
    "##### Q-1. Create a function that takes a number as an argument and returns True or False depending on whether the number is symmetrical or not. A number is symmetrical when it is the same as its reverse."
   ]
  },
  {
   "cell_type": "code",
   "execution_count": 20,
   "id": "972301a5",
   "metadata": {},
   "outputs": [],
   "source": [
    "#Method 1\n",
    "def is_symmetrical(a):\n",
    "    try:\n",
    "        if str(a) == str(a)[::-1]:\n",
    "            return True\n",
    "        else:\n",
    "            return False\n",
    "    except Exception as e:\n",
    "        print(e)\n",
    "\n",
    "is_symmetrical(121)"
   ]
  },
  {
   "cell_type": "code",
   "execution_count": 40,
   "id": "74a22461",
   "metadata": {},
   "outputs": [],
   "source": [
    "#Method 2\n",
    "def is_symmetrical1(num):\n",
    "    try:\n",
    "        temp =num\n",
    "        reverse = 0\n",
    "        i = len(str(num))-1\n",
    "        while temp>0:\n",
    "            remainder = temp%10\n",
    "            reverse += remainder*(10**i)\n",
    "            temp//=10\n",
    "            i-=1\n",
    "        if reverse==num:\n",
    "            return True\n",
    "        else:\n",
    "            return False\n",
    "    except Exception as e:\n",
    "        print(e)\n",
    "is_symmetrical1(121)"
   ]
  },
  {
   "cell_type": "markdown",
   "id": "5b34a45c",
   "metadata": {},
   "source": [
    "##### Q-2. Given a string of numbers separated by a comma and space, return the product of the numbers."
   ]
  },
  {
   "cell_type": "code",
   "execution_count": 69,
   "id": "62d572cd",
   "metadata": {},
   "outputs": [
    {
     "data": {
      "text/plain": [
       "180"
      ]
     },
     "execution_count": 69,
     "metadata": {},
     "output_type": "execute_result"
    }
   ],
   "source": [
    "import functools\n",
    "def multiply_num(str_nums):\n",
    "    try:\n",
    "        list_nums = list(map(int, str_nums.split(\",\")))\n",
    "        multi_result=functools.reduce(lambda a,b: a*b, list_nums)\n",
    "        return multi_result\n",
    "    except Exception as e:\n",
    "        print(e)\n",
    "\n",
    "multiply_num(\"2,3,5,6\")"
   ]
  },
  {
   "cell_type": "markdown",
   "id": "a95bb293",
   "metadata": {},
   "source": [
    "##### Q-3. Create a function that squares every digit of a number."
   ]
  },
  {
   "cell_type": "code",
   "execution_count": 99,
   "id": "b3de7b5e",
   "metadata": {},
   "outputs": [
    {
     "data": {
      "text/plain": [
       "25364981"
      ]
     },
     "execution_count": 99,
     "metadata": {},
     "output_type": "execute_result"
    }
   ],
   "source": [
    "def square_digits(number):\n",
    "    try:\n",
    "        list_num = list(str(number))\n",
    "        pre_result = list(map(lambda x:str(int(x)**2),list_num))\n",
    "        Final_result = int(\"\".join(pre_result)) \n",
    "        return Final_result\n",
    "    except Exception as e:\n",
    "        print(e)\n",
    "\n",
    "square_digits(5679)"
   ]
  },
  {
   "cell_type": "markdown",
   "id": "00dba737",
   "metadata": {},
   "source": [
    "##### Q-4. Create a function that sorts a list and removes all duplicate items from it."
   ]
  },
  {
   "cell_type": "code",
   "execution_count": 95,
   "id": "0f2182ce",
   "metadata": {},
   "outputs": [],
   "source": [
    "#Method 1\n",
    "def setify(list_nums):\n",
    "    try:\n",
    "        result = list(set(list_nums))\n",
    "        return result\n",
    "    except Exception as e:\n",
    "        print(e)"
   ]
  },
  {
   "cell_type": "code",
   "execution_count": 97,
   "id": "311f5cee",
   "metadata": {},
   "outputs": [],
   "source": [
    "#Method 2\n",
    "from collections import OrderedDict\n",
    "def setify1(list_nums):\n",
    "    try:\n",
    "        result = list(OrderedDict.fromkeys(list_nums))\n",
    "        return result\n",
    "    except Exception as e:\n",
    "        print(e)"
   ]
  },
  {
   "cell_type": "markdown",
   "id": "db2bb5e3",
   "metadata": {},
   "source": [
    "##### Q-5. Create a function that returns the mean of all digits."
   ]
  },
  {
   "cell_type": "code",
   "execution_count": 109,
   "id": "cc58431c",
   "metadata": {},
   "outputs": [],
   "source": [
    "def mean(nums):\n",
    "    n = len(str(nums))\n",
    "    sum = 0\n",
    "    i = 0\n",
    "    while nums>0:\n",
    "        remainder = nums%10\n",
    "        sum+=remainder\n",
    "        nums//=10\n",
    "        i+=1\n",
    "    mean = int(sum/n)\n",
    "    return mean"
   ]
  },
  {
   "cell_type": "code",
   "execution_count": null,
   "id": "6bf7449d",
   "metadata": {},
   "outputs": [],
   "source": []
  }
 ],
 "metadata": {
  "kernelspec": {
   "display_name": "Python 3 (ipykernel)",
   "language": "python",
   "name": "python3"
  },
  "language_info": {
   "codemirror_mode": {
    "name": "ipython",
    "version": 3
   },
   "file_extension": ".py",
   "mimetype": "text/x-python",
   "name": "python",
   "nbconvert_exporter": "python",
   "pygments_lexer": "ipython3",
   "version": "3.9.7"
  }
 },
 "nbformat": 4,
 "nbformat_minor": 5
}
