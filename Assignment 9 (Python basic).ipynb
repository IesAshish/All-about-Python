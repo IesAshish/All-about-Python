{
 "cells": [
  {
   "cell_type": "markdown",
   "id": "51d7bc4f",
   "metadata": {},
   "source": [
    "##### 1. To what does a relative path refer?"
   ]
  },
  {
   "cell_type": "code",
   "execution_count": null,
   "id": "28538d6c",
   "metadata": {},
   "outputs": [],
   "source": [
    "A relative path, which is relative to the program’s current working directory."
   ]
  },
  {
   "cell_type": "markdown",
   "id": "4739f333",
   "metadata": {},
   "source": [
    "##### 2. What does an absolute path start with your operating system?"
   ]
  },
  {
   "cell_type": "code",
   "execution_count": null,
   "id": "a7d2a348",
   "metadata": {},
   "outputs": [],
   "source": [
    "An absolute path start with root folder such as C:\\"
   ]
  },
  {
   "cell_type": "markdown",
   "id": "5cb022c3",
   "metadata": {},
   "source": [
    "##### 3. What do the functions os.getcwd() and os.chdir() do?"
   ]
  },
  {
   "cell_type": "code",
   "execution_count": null,
   "id": "d9892ff5",
   "metadata": {},
   "outputs": [],
   "source": [
    "os.getcwd() returns the current working directory in string format.\n",
    "os.chdir() Change the current working directory to the specified path'"
   ]
  },
  {
   "cell_type": "markdown",
   "id": "9b409dcf",
   "metadata": {},
   "source": [
    "##### 4. What are the . and .. folders?"
   ]
  },
  {
   "cell_type": "code",
   "execution_count": null,
   "id": "afcbe05a",
   "metadata": {},
   "outputs": [],
   "source": [
    "A single period (dot) means the \"current folder\" whereas two periods (dot-dot) means \"the parent folder\"."
   ]
  },
  {
   "cell_type": "markdown",
   "id": "6e366691",
   "metadata": {},
   "source": [
    "##### 5. In C:\\bacon\\eggs\\spam.txt, which part is the dir name, and which part is the base name?"
   ]
  },
  {
   "cell_type": "code",
   "execution_count": null,
   "id": "81cb34ce",
   "metadata": {},
   "outputs": [],
   "source": [
    "C:\\bacon\\eggs is the directory name whereas spam.txt is the base name."
   ]
  },
  {
   "cell_type": "markdown",
   "id": "3404e79b",
   "metadata": {},
   "source": [
    "##### 6. What are the three “mode” arguments that can be passed to the open() function?"
   ]
  },
  {
   "cell_type": "code",
   "execution_count": null,
   "id": "5ef42e59",
   "metadata": {},
   "outputs": [],
   "source": [
    "The three \"mode\" arguments that can be passed to the open() function are:-\n",
    "(i) read mode i.e. r\n",
    "(ii) write mode i.e. w\n",
    "(iii) append mode i.e. a"
   ]
  },
  {
   "cell_type": "markdown",
   "id": "b5b3a74f",
   "metadata": {},
   "source": [
    "##### 7. What happens if an existing file is opened in write mode?"
   ]
  },
  {
   "cell_type": "code",
   "execution_count": null,
   "id": "12d86722",
   "metadata": {},
   "outputs": [],
   "source": [
    "when a file is already open in write mode then whatever we write, it will overwrite the existing text."
   ]
  },
  {
   "cell_type": "markdown",
   "id": "a4fb2d02",
   "metadata": {},
   "source": [
    "##### 8. How do you tell the difference between read() and readlines()?"
   ]
  },
  {
   "cell_type": "code",
   "execution_count": null,
   "id": "56bfe350",
   "metadata": {},
   "outputs": [],
   "source": [
    "read() method returns the content of the file as a single large string value.\n",
    "The readlines() method returns a list of strings, where each string is a line from the file’s contents."
   ]
  },
  {
   "cell_type": "markdown",
   "id": "daae8d39",
   "metadata": {},
   "source": [
    "##### 9. What data structure does a shelf value resemble?"
   ]
  },
  {
   "cell_type": "code",
   "execution_count": null,
   "id": "1e3e2dec",
   "metadata": {},
   "outputs": [],
   "source": [
    "A shelf value resembles a dictionary value; it has keys and values, along with keys() and values() methods that work similarly to the dictionary methods of the same names"
   ]
  }
 ],
 "metadata": {
  "kernelspec": {
   "display_name": "Python 3 (ipykernel)",
   "language": "python",
   "name": "python3"
  },
  "language_info": {
   "codemirror_mode": {
    "name": "ipython",
    "version": 3
   },
   "file_extension": ".py",
   "mimetype": "text/x-python",
   "name": "python",
   "nbconvert_exporter": "python",
   "pygments_lexer": "ipython3",
   "version": "3.9.7"
  }
 },
 "nbformat": 4,
 "nbformat_minor": 5
}
