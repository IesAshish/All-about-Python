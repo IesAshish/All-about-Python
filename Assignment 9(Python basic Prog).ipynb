{
 "cells": [
  {
   "cell_type": "markdown",
   "id": "cf33a329",
   "metadata": {},
   "source": [
    "1. Write a Python program to check if the number is a Disarium number?\n",
    "* A number is disarium number when the sum of its digit raised to the power of their respective position is equal to the number iteself. For eg 175, 89, 135, 518 "
   ]
  },
  {
   "cell_type": "code",
   "execution_count": 1,
   "id": "4ae63200",
   "metadata": {},
   "outputs": [
    {
     "name": "stdout",
     "output_type": "stream",
     "text": [
      "125 is not a Disarium number\n"
     ]
    }
   ],
   "source": [
    "try:    \n",
    "    def disarium_check(num):\n",
    "        \"\"\"return whether a number is disarium or not\"\"\"\n",
    "        # first we need to count the number of element\n",
    "        count = len(str(num))\n",
    "        sum =0\n",
    "        x = num\n",
    "        while x!=0:\n",
    "            # here r stands for remainder as we want last digit \n",
    "            r = x%10\n",
    "            \n",
    "            # incrementing the value of sum by raising r to the power of count which is nothing but the length\n",
    "            sum = sum  + r**count\n",
    "            count = count -1\n",
    "            \n",
    "            # we erase that remainder(r) from the number\n",
    "            x = x//10\n",
    "            \n",
    "        if sum == num:\n",
    "            return 1\n",
    "        else:\n",
    "            return 0\n",
    "    num = 125\n",
    "    if disarium_check(num) == 1:\n",
    "        print(f\"yes {num} is Disarium number\")\n",
    "    else:\n",
    "        print(f\"{num} is not a Disarium number\")\n",
    "except Exception as e:\n",
    "    print(e)"
   ]
  },
  {
   "cell_type": "markdown",
   "id": "48975a70",
   "metadata": {},
   "source": [
    "2. Write a Python Program to print all disarium numbers between 1 to 100?\n"
   ]
  },
  {
   "cell_type": "code",
   "execution_count": 72,
   "id": "89e470b8",
   "metadata": {},
   "outputs": [
    {
     "name": "stdout",
     "output_type": "stream",
     "text": [
      "1\n",
      "2\n",
      "3\n",
      "4\n",
      "5\n",
      "6\n",
      "7\n",
      "8\n",
      "9\n",
      "89\n"
     ]
    }
   ],
   "source": [
    "try:\n",
    "    def check(num):\n",
    "        \"\"\"return whether a number is disarium or not\"\"\"\n",
    "        count = len(str(num))\n",
    "        sum =0\n",
    "        x = num\n",
    "        while x>0:\n",
    "            r = x%10\n",
    "            sum = sum  + r**count\n",
    "            count = count -1\n",
    "            x = x//10\n",
    "        return sum\n",
    "    for i in range(1,101):\n",
    "        result = check(i)\n",
    "        if (result ==i):\n",
    "            print(i)\n",
    "except Exception as e:\n",
    "    print(e)\n",
    "\n",
    "    "
   ]
  },
  {
   "cell_type": "markdown",
   "id": "eec63f26",
   "metadata": {},
   "source": [
    "3. write a Python Program to check if the given number is Happy number?\n",
    "* A Happy number is called happy if it leads to 1 after a sequence of steps where in each step number is replaced by the sum of the square of its digit.\n"
   ]
  },
  {
   "cell_type": "code",
   "execution_count": null,
   "id": "42d2faf6",
   "metadata": {},
   "outputs": [],
   "source": [
    "try:\n",
    "    def Happy_num(n):\n",
    "        \"\"\"It returns whether a number is happy or unhappy\"\"\"\n",
    "        sum = 0\n",
    "        while n!=0:\n",
    "            r = n%10\n",
    "            sum += r**2\n",
    "            n = n//10\n",
    "        return sum\n",
    "\n",
    "    n = int(input(\"Enter Your Number: \"))\n",
    "    result = n\n",
    "    while result !=1 and result != 4:\n",
    "        result = Happy_num(result)\n",
    "\n",
    "\n",
    "    if result ==1:\n",
    "        print(f\"Enjoy!! {n} is Happy number\")\n",
    "    else:\n",
    "        print(f\"So Sad!! {n} is Unhappy number\")\n",
    "except Exception as e:\n",
    "    print(e)"
   ]
  },
  {
   "cell_type": "markdown",
   "id": "0bd957ca",
   "metadata": {},
   "source": [
    "4. write a python program to print all happy numbers between 1 to 100?\n"
   ]
  },
  {
   "cell_type": "code",
   "execution_count": 32,
   "id": "44b100ec",
   "metadata": {},
   "outputs": [
    {
     "name": "stdout",
     "output_type": "stream",
     "text": [
      "Enjoy!! 1 is Happy number\n",
      "Enjoy!! 7 is Happy number\n",
      "Enjoy!! 10 is Happy number\n",
      "Enjoy!! 13 is Happy number\n",
      "Enjoy!! 19 is Happy number\n",
      "Enjoy!! 23 is Happy number\n",
      "Enjoy!! 28 is Happy number\n",
      "Enjoy!! 31 is Happy number\n",
      "Enjoy!! 32 is Happy number\n",
      "Enjoy!! 44 is Happy number\n",
      "Enjoy!! 49 is Happy number\n",
      "Enjoy!! 68 is Happy number\n",
      "Enjoy!! 70 is Happy number\n",
      "Enjoy!! 79 is Happy number\n",
      "Enjoy!! 82 is Happy number\n",
      "Enjoy!! 86 is Happy number\n",
      "Enjoy!! 91 is Happy number\n",
      "Enjoy!! 94 is Happy number\n",
      "Enjoy!! 97 is Happy number\n",
      "Enjoy!! 100 is Happy number\n"
     ]
    }
   ],
   "source": [
    "try:\n",
    "    def Happy(n):\n",
    "        \"\"\"It returns whether a number is happy or unhappy\"\"\"\n",
    "        sum = 0\n",
    "        while n!=0:\n",
    "            r = n%10\n",
    "            sum += r**2\n",
    "            n = n//10\n",
    "        return sum\n",
    "\n",
    "    for i in range(1,101):\n",
    "        result= i\n",
    "        while  result!=1 and result!= 4:\n",
    "            result = Happy(result)\n",
    "\n",
    "\n",
    "        if result ==1:\n",
    "            print(f\"Enjoy!! {i} is Happy number\")\n",
    "except Exception as e:\n",
    "    print(e)"
   ]
  },
  {
   "cell_type": "markdown",
   "id": "085a382f",
   "metadata": {},
   "source": [
    "5. write a python program to determine whether the given number is a Harshad number?\n",
    "* A number is said to be the Harshad Number if it is divisible by sum of its digit. For eg 156,6804 etc"
   ]
  },
  {
   "cell_type": "code",
   "execution_count": 49,
   "id": "d488c68c",
   "metadata": {},
   "outputs": [],
   "source": [
    "try:\n",
    "    def Harshad_num(num):\n",
    "        \"\"\"Return Whether a number is Harshad number or not\"\"\"\n",
    "        sum = 0\n",
    "        x = num\n",
    "        while x>0:\n",
    "            r = x%10\n",
    "            sum += r\n",
    "            x = x//10\n",
    "        if (num%sum)==0:\n",
    "            return \"Harshad Number\"\n",
    "        else:\n",
    "            return \"Try Again\"\n",
    "except Exception as e:\n",
    "    print(e)"
   ]
  },
  {
   "cell_type": "markdown",
   "id": "a78bdd83",
   "metadata": {},
   "source": [
    "6. Write a python program to print all pronic numbers between 1 and 100?\n",
    "* A pronic number is a number which is the product of two consecutive numbers i.e. n(n+1)"
   ]
  },
  {
   "cell_type": "code",
   "execution_count": 72,
   "id": "3d1cb3a9",
   "metadata": {},
   "outputs": [
    {
     "name": "stdout",
     "output_type": "stream",
     "text": [
      "2\n",
      "6\n",
      "12\n",
      "20\n",
      "30\n",
      "42\n",
      "56\n",
      "72\n",
      "90\n"
     ]
    }
   ],
   "source": [
    "try:\n",
    "    def check_pronic(num):\n",
    "    \"\"\"Return pronic numbers\"\"\"\n",
    "    flag = False\n",
    "    for i in range(1,num+1):\n",
    "        if i*(i+1) == num:\n",
    "            flag = True\n",
    "            break\n",
    "    return flag\n",
    "for j in range(1, 101):\n",
    "    if (check_pronic(j)):\n",
    "        print(j)\n",
    "except Exception as e:\n",
    "    print(e)\n",
    "        \n",
    "\n",
    "        \n",
    "        \n",
    "    \n",
    "    "
   ]
  },
  {
   "cell_type": "code",
   "execution_count": 76,
   "id": "156025bb",
   "metadata": {},
   "outputs": [],
   "source": []
  },
  {
   "cell_type": "code",
   "execution_count": null,
   "id": "b30300af",
   "metadata": {},
   "outputs": [],
   "source": []
  }
 ],
 "metadata": {
  "kernelspec": {
   "display_name": "Python 3 (ipykernel)",
   "language": "python",
   "name": "python3"
  },
  "language_info": {
   "codemirror_mode": {
    "name": "ipython",
    "version": 3
   },
   "file_extension": ".py",
   "mimetype": "text/x-python",
   "name": "python",
   "nbconvert_exporter": "python",
   "pygments_lexer": "ipython3",
   "version": "3.9.7"
  }
 },
 "nbformat": 4,
 "nbformat_minor": 5
}
