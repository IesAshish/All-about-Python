{
 "cells": [
  {
   "cell_type": "markdown",
   "id": "530d352f",
   "metadata": {},
   "source": [
    "##### Q-1. Create a function that takes three parameters where:\n",
    " * x is the start of the range (inclusive).\n",
    " * y is the end of the range (inclusive).\n",
    " * n is the divisor to be checked against.\n",
    "\n",
    "Return an ordered list with numbers in the range that are divisible by the third parameter n.\n",
    "\n",
    "Return an empty list if there are no numbers that are divisible by n."
   ]
  },
  {
   "cell_type": "code",
   "execution_count": 7,
   "id": "350e77d1",
   "metadata": {},
   "outputs": [
    {
     "data": {
      "text/plain": [
       "[6, 9, 12, 15, 18, 21]"
      ]
     },
     "execution_count": 7,
     "metadata": {},
     "output_type": "execute_result"
    }
   ],
   "source": [
    "def list_operational(x,y,n):\n",
    "    try:\n",
    "        result = [i for i in range(x,y+1) if i%n==0]\n",
    "        return result\n",
    "    except Exception as e:\n",
    "        print(e)\n",
    "\n",
    "\n",
    "list_operational(4,21,3)"
   ]
  },
  {
   "cell_type": "markdown",
   "id": "612ad94f",
   "metadata": {},
   "source": [
    "##### Q-2. Create a function that takes in two lists and returns True if the second list follows the first list by one element, and False otherwise. In other words, determine if the second list is the first list shifted to the right by 1."
   ]
  },
  {
   "cell_type": "code",
   "execution_count": 21,
   "id": "3848f7cb",
   "metadata": {},
   "outputs": [],
   "source": [
    "def simon_says(list1, list2):\n",
    "    if len(list1)==len(list2):\n",
    "        for i in range(0,len(list1)-1):\n",
    "            if list1[i]!=list2[i+1]:\n",
    "                return False\n",
    "            return True\n",
    "    else:\n",
    "        return \"Unequal list length\"\n",
    "            \n",
    "simon_says([1, 2, 3, 4, 5], [0, 1, 2, 3, 4])"
   ]
  },
  {
   "cell_type": "markdown",
   "id": "64d934a4",
   "metadata": {},
   "source": [
    "##### Q-3. A group of friends have decided to start a secret society. The name will be the first letter of each of their names, sorted in alphabetical order. Create a function that takes in a list of names and returns the name of the secret society."
   ]
  },
  {
   "cell_type": "code",
   "execution_count": 40,
   "id": "e1d13e5c",
   "metadata": {},
   "outputs": [],
   "source": [
    "def society_name(list_names):\n",
    "    secret_name=[i[0] for i in list_names]\n",
    "    secret_name.sort()\n",
    "    first_alpha = \"\".join(secret_name)\n",
    "    return first_alpha"
   ]
  },
  {
   "cell_type": "code",
   "execution_count": 42,
   "id": "bcde4a67",
   "metadata": {},
   "outputs": [
    {
     "data": {
      "text/plain": [
       "'CJMPRR'"
      ]
     },
     "execution_count": 42,
     "metadata": {},
     "output_type": "execute_result"
    }
   ],
   "source": [
    "society_name([\"Phoebe\", \"Chandler\", \"Rachel\", \"Ross\", \"Monica\", \"Joey\"])"
   ]
  },
  {
   "cell_type": "markdown",
   "id": "c256f69a",
   "metadata": {},
   "source": [
    "##### Q-4. An isogram is a word that has no duplicate letters. Create a function that takes a string and returns either True or False depending on whether or not it&#39;s an &quot;isogram&quot;."
   ]
  },
  {
   "cell_type": "code",
   "execution_count": 54,
   "id": "4e00a1e3",
   "metadata": {},
   "outputs": [],
   "source": [
    "def is_isogram(word):\n",
    "    try:\n",
    "        for i in word:\n",
    "            if word.casefold().count(i)>1:     #casefold lowers capital letter alphabets\n",
    "                return False\n",
    "        return True\n",
    "    except Exception as e:\n",
    "        print(\"Error Has Occured: \",e)\n",
    "is_isogram(\"Consecutive\")"
   ]
  },
  {
   "cell_type": "markdown",
   "id": "e1a95bd4",
   "metadata": {},
   "source": [
    "##### Q-5. Create a function that takes a string and returns True or False, depending on whether the characters are in order or not."
   ]
  },
  {
   "cell_type": "code",
   "execution_count": 64,
   "id": "725995b5",
   "metadata": {},
   "outputs": [],
   "source": [
    "def is_in_order(word):\n",
    "    for i in range(len(word)-1):\n",
    "        if word[i].casefold()>word[i+1].casefold():\n",
    "            return False\n",
    "    return True\n",
    "    "
   ]
  },
  {
   "cell_type": "code",
   "execution_count": null,
   "id": "5602e7ee",
   "metadata": {},
   "outputs": [],
   "source": []
  }
 ],
 "metadata": {
  "kernelspec": {
   "display_name": "Python 3 (ipykernel)",
   "language": "python",
   "name": "python3"
  },
  "language_info": {
   "codemirror_mode": {
    "name": "ipython",
    "version": 3
   },
   "file_extension": ".py",
   "mimetype": "text/x-python",
   "name": "python",
   "nbconvert_exporter": "python",
   "pygments_lexer": "ipython3",
   "version": "3.9.7"
  }
 },
 "nbformat": 4,
 "nbformat_minor": 5
}
