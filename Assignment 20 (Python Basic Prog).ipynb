{
 "cells": [
  {
   "cell_type": "markdown",
   "id": "ea767b1e",
   "metadata": {},
   "source": [
    "##### Q-1. Create a function that takes a list of strings and integers, and filters out the list so that it returns a list of integers only."
   ]
  },
  {
   "cell_type": "code",
   "execution_count": 17,
   "id": "f096021c",
   "metadata": {},
   "outputs": [],
   "source": [
    "def filter_list(mix_of_list):\n",
    "    filterd_list=list(filter(lambda x:type(x)==int, mix_of_list))\n",
    "    return filterd_list"
   ]
  },
  {
   "cell_type": "markdown",
   "id": "f144ed67",
   "metadata": {},
   "source": [
    "##### Q-2. Given a list of numbers, create a function which returns the list but with each element&#39;s index in the list added to itself. This means you add 0 to the number at index 0, add 1 to the number at index 1, etc..."
   ]
  },
  {
   "cell_type": "code",
   "execution_count": 29,
   "id": "fa2668dd",
   "metadata": {},
   "outputs": [],
   "source": [
    "## Method 1\n",
    "def add_indexes(list_of_num):\n",
    "    index_num = [i for i in range(0, len(list_of_num))]\n",
    "    return index_num"
   ]
  },
  {
   "cell_type": "code",
   "execution_count": 32,
   "id": "5b34779a",
   "metadata": {},
   "outputs": [],
   "source": [
    "## Method 2 \n",
    "def add_indexs1(list_num):\n",
    "    index = [i+j for i,j in enumerate(list_num)]\n",
    "    return index"
   ]
  },
  {
   "cell_type": "markdown",
   "id": "0558998f",
   "metadata": {},
   "source": [
    "##### Q-3. Create a function that takes the height and radius of a cone as arguments and returns the volume of the cone rounded to the nearest hundredth. See the resources tab for the formula."
   ]
  },
  {
   "cell_type": "code",
   "execution_count": 36,
   "id": "1221d9c3",
   "metadata": {},
   "outputs": [],
   "source": [
    "import math\n",
    "def vol_of_cone(radius,height):\n",
    "    volume = round(1/3*(math.pi)*(radius**2)*height,2)\n",
    "    return volume"
   ]
  },
  {
   "cell_type": "markdown",
   "id": "2463998b",
   "metadata": {},
   "source": [
    "##### Q-4. This Triangular Number Sequence is generated from a pattern of dots that form a triangle. The first 5 numbers of the sequence, or dots, are: 1, 3, 6, 10, 15\n",
    "##### This means that the first triangle has just one dot, the second one has three dots, the third one\n",
    "##### has 6 dots and so on.\n",
    "##### Write a function that gives the number of dots with its corresponding triangle number of the\n",
    "##### sequence."
   ]
  },
  {
   "cell_type": "code",
   "execution_count": 42,
   "id": "0bba06e5",
   "metadata": {},
   "outputs": [],
   "source": [
    "def traingle(num):\n",
    "    i = 1\n",
    "    num_of_dots = 0\n",
    "    while i<=num:\n",
    "        num_of_dots+=i\n",
    "        i+=1\n",
    "    return num_of_dots"
   ]
  },
  {
   "cell_type": "markdown",
   "id": "c1c8ac33",
   "metadata": {},
   "source": [
    "##### Q-5. Create a function that takes a list of numbers between 1 and 10 (excluding one number) and returns the missing number."
   ]
  },
  {
   "cell_type": "code",
   "execution_count": 47,
   "id": "d54eba5a",
   "metadata": {},
   "outputs": [],
   "source": [
    "def missing_num(lis):\n",
    "    i=1\n",
    "    while i<11:\n",
    "        if i not in lis:\n",
    "            return i\n",
    "        i += 1 "
   ]
  },
  {
   "cell_type": "code",
   "execution_count": null,
   "id": "6814363e",
   "metadata": {},
   "outputs": [],
   "source": []
  }
 ],
 "metadata": {
  "kernelspec": {
   "display_name": "Python 3 (ipykernel)",
   "language": "python",
   "name": "python3"
  },
  "language_info": {
   "codemirror_mode": {
    "name": "ipython",
    "version": 3
   },
   "file_extension": ".py",
   "mimetype": "text/x-python",
   "name": "python",
   "nbconvert_exporter": "python",
   "pygments_lexer": "ipython3",
   "version": "3.9.7"
  }
 },
 "nbformat": 4,
 "nbformat_minor": 5
}
