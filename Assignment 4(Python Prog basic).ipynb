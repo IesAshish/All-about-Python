{
 "cells": [
  {
   "cell_type": "markdown",
   "id": "40ffd919",
   "metadata": {},
   "source": [
    "1. Write a Python Program to Find the Factorial of a Number?"
   ]
  },
  {
   "cell_type": "code",
   "execution_count": 9,
   "id": "5e185d59",
   "metadata": {},
   "outputs": [
    {
     "name": "stdout",
     "output_type": "stream",
     "text": [
      "Enter a number: 5\n",
      "The factorial for 5 is 120\n"
     ]
    }
   ],
   "source": [
    "try:\n",
    "    num = int(input(\"Enter a number: \"))\n",
    "    factorial = 1\n",
    "    if num<0:\n",
    "        print(\"Sorry!! Factorial does not exist for negative numbers\")\n",
    "    elif num==0:\n",
    "        print(\"The factorial for 0 is 1\")\n",
    "    else:\n",
    "        for i in range(1,num+1):\n",
    "            factorial = factorial*i\n",
    "        print(\"The factorial for\",num,\"is\", factorial)\n",
    "except Exceptioni as e:\n",
    "    print(e)"
   ]
  },
  {
   "cell_type": "markdown",
   "id": "d9ef8781",
   "metadata": {},
   "source": [
    "2. Write a Python Program to Display the multiplication Table?"
   ]
  },
  {
   "cell_type": "code",
   "execution_count": 9,
   "id": "d9d91c0c",
   "metadata": {},
   "outputs": [],
   "source": [
    "try:\n",
    "    def multiplication(n):\n",
    "        for i in range(1,n+1):\n",
    "            result = n*i\n",
    "            print(n,\"x\",i,\"=\",result)\n",
    "except Exception as e:\n",
    "    print(e)\n",
    "\n",
    "multiplication(20)"
   ]
  },
  {
   "cell_type": "markdown",
   "id": "117dddbf",
   "metadata": {},
   "source": [
    "3. Write a Python Program to Print the Fibonacci sequence?"
   ]
  },
  {
   "cell_type": "code",
   "execution_count": 28,
   "id": "f61e5959",
   "metadata": {},
   "outputs": [
    {
     "name": "stdout",
     "output_type": "stream",
     "text": [
      "Enter a number: 10\n",
      "fibonacci series: [0, 1, 1, 2, 3, 5, 8, 13, 21, 34]\n"
     ]
    }
   ],
   "source": [
    "try:\n",
    "    a=0\n",
    "    b=1\n",
    "    n=int(input(\"Enter a number: \"))\n",
    "    l=[]\n",
    "    for i in range(n):\n",
    "        l.append(a)\n",
    "        a,b = b, a+b\n",
    "    print(\"fibonacci series:\", l)\n",
    "except Exception as e:\n",
    "    print(e)\n"
   ]
  },
  {
   "cell_type": "markdown",
   "id": "1949d0ca",
   "metadata": {},
   "source": [
    "4.Write a Python Program to Check Armstrong Number?"
   ]
  },
  {
   "cell_type": "code",
   "execution_count": 8,
   "id": "11da3341",
   "metadata": {},
   "outputs": [
    {
     "name": "stdout",
     "output_type": "stream",
     "text": [
      "Enter a number: 407\n",
      "Yes!! It is a armstrong number\n"
     ]
    }
   ],
   "source": [
    "try:\n",
    "    num = int(input(\"Enter a number: \"))\n",
    "    sum = 0\n",
    "    num1 = num\n",
    "    while num1>0:\n",
    "        digit = num1%10\n",
    "        sum =sum + digit**3\n",
    "        num1 = num1//10\n",
    "    if sum == num:\n",
    "        print(\"Yes!! It is a armstrong number\")\n",
    "    else:\n",
    "        print(\"Not a armstrong number\")\n",
    "except Exception as e:\n",
    "    print(e)"
   ]
  },
  {
   "cell_type": "markdown",
   "id": "a540b2bc",
   "metadata": {},
   "source": [
    "6. Write a Python Program to Find the Sum of Natural Numbers? "
   ]
  },
  {
   "cell_type": "code",
   "execution_count": 12,
   "id": "c068ffa0",
   "metadata": {},
   "outputs": [
    {
     "name": "stdout",
     "output_type": "stream",
     "text": [
      "The sum of natural numbers is:  105\n"
     ]
    }
   ],
   "source": [
    "try:\n",
    "    def Summation(n):\n",
    "        sum=0\n",
    "        for i in range(n):\n",
    "            sum = sum + i\n",
    "        print(\"The sum of natural numbers is: \",sum)\n",
    "except Exception as e:\n",
    "    print(e)\n",
    "\n",
    "Summation(15)"
   ]
  },
  {
   "cell_type": "code",
   "execution_count": null,
   "id": "118d7a49",
   "metadata": {},
   "outputs": [],
   "source": []
  }
 ],
 "metadata": {
  "kernelspec": {
   "display_name": "Python 3 (ipykernel)",
   "language": "python",
   "name": "python3"
  },
  "language_info": {
   "codemirror_mode": {
    "name": "ipython",
    "version": 3
   },
   "file_extension": ".py",
   "mimetype": "text/x-python",
   "name": "python",
   "nbconvert_exporter": "python",
   "pygments_lexer": "ipython3",
   "version": "3.9.7"
  }
 },
 "nbformat": 4,
 "nbformat_minor": 5
}
