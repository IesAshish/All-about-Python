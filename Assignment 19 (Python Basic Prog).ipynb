{
 "cells": [
  {
   "cell_type": "markdown",
   "id": "28ebfc05",
   "metadata": {},
   "source": [
    "##### Q-1. Create a function that takes a string and returns a string in which each character is repeated once."
   ]
  },
  {
   "cell_type": "code",
   "execution_count": 57,
   "id": "5d11398f",
   "metadata": {},
   "outputs": [],
   "source": [
    "def double_char(word):\n",
    "    empty_str = \"\"\n",
    "    try:\n",
    "        for i in word:\n",
    "            empty_str += i*2\n",
    "        return empty_str\n",
    "    except Exception as e:\n",
    "        print(e)"
   ]
  },
  {
   "cell_type": "markdown",
   "id": "9f56bb48",
   "metadata": {},
   "source": [
    "##### Q-2. Create a function that reverses a boolean value and returns the string \"boolean expected\" if another variable type is given."
   ]
  },
  {
   "cell_type": "code",
   "execution_count": 59,
   "id": "837fb9d9",
   "metadata": {},
   "outputs": [],
   "source": [
    "def reverse(boolean):\n",
    "    if type(boolean)==bool:\n",
    "        if boolean == True:\n",
    "            return False\n",
    "        else:\n",
    "            return True\n",
    "    else:\n",
    "        return \"Boolean Expected\""
   ]
  },
  {
   "cell_type": "markdown",
   "id": "fc3602b9",
   "metadata": {},
   "source": [
    "##### Q-3. Create a function that returns the thickness (in meters) of a piece of paper after folding it n number of times. The paper starts off with a thickness of 0.5mm."
   ]
  },
  {
   "cell_type": "code",
   "execution_count": 71,
   "id": "924bd11e",
   "metadata": {},
   "outputs": [],
   "source": [
    "def num_layers(n):\n",
    "    initial_thick = 0.0005\n",
    "    final_thick = initial_thick*(2**n)\n",
    "    return f\"Paper folded {n} times is {final_thick}m in thickness\""
   ]
  },
  {
   "cell_type": "markdown",
   "id": "e2b8aeb3",
   "metadata": {},
   "source": [
    "##### Q-4. Create a function that takes a single string as argument and returns an ordered list containing the indices of all capital letters in the string."
   ]
  },
  {
   "cell_type": "code",
   "execution_count": 79,
   "id": "9de80f6e",
   "metadata": {},
   "outputs": [],
   "source": [
    "def index_of_caps(word):\n",
    "    cap_letters = [word.index(i) for i in word if i.isupper()]\n",
    "    return cap_letters"
   ]
  },
  {
   "cell_type": "markdown",
   "id": "033ff69f",
   "metadata": {},
   "source": [
    "##### Q-5. Using list comprehensions, create a function that finds all even numbers from 1 to the given number."
   ]
  },
  {
   "cell_type": "code",
   "execution_count": 84,
   "id": "6741f36e",
   "metadata": {},
   "outputs": [],
   "source": [
    "def even_no(num):\n",
    "    numbers=[i for i in range(1,num) if i%2==0]\n",
    "    return numbers"
   ]
  },
  {
   "cell_type": "code",
   "execution_count": null,
   "id": "f3f25bb8",
   "metadata": {},
   "outputs": [],
   "source": []
  }
 ],
 "metadata": {
  "kernelspec": {
   "display_name": "Python 3 (ipykernel)",
   "language": "python",
   "name": "python3"
  },
  "language_info": {
   "codemirror_mode": {
    "name": "ipython",
    "version": 3
   },
   "file_extension": ".py",
   "mimetype": "text/x-python",
   "name": "python",
   "nbconvert_exporter": "python",
   "pygments_lexer": "ipython3",
   "version": "3.9.7"
  }
 },
 "nbformat": 4,
 "nbformat_minor": 5
}
