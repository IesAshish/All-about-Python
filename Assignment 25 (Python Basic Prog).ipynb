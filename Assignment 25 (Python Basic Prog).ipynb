{
 "cells": [
  {
   "cell_type": "markdown",
   "id": "1077549e",
   "metadata": {},
   "source": [
    "##### Q-1. Create a function that takes three integer arguments (a, b, c) and returns the amount of integers which are of equal value."
   ]
  },
  {
   "cell_type": "code",
   "execution_count": 17,
   "id": "064596f2",
   "metadata": {},
   "outputs": [],
   "source": [
    "try:\n",
    "    def equal_value(a,b,c):\n",
    "        \"\"\"This function returns the amount of integers which are of equal value\"\"\"\n",
    "        if a == b and a == c:\n",
    "            return 3\n",
    "        elif a == b or a == c or b == c:\n",
    "            return 2\n",
    "        else:\n",
    "            return 0\n",
    "except Exception as e:\n",
    "    print(e)"
   ]
  },
  {
   "cell_type": "markdown",
   "id": "d9c6065d",
   "metadata": {},
   "source": [
    "##### Q-2. Write a function that converts a dictionary into a list of keys-values tuples."
   ]
  },
  {
   "cell_type": "code",
   "execution_count": 34,
   "id": "09699674",
   "metadata": {},
   "outputs": [],
   "source": [
    "try:\n",
    "    def dict_to_list(dict1):\n",
    "        \"\"\"This function returns the dictionary into a list of keys-values tuples\"\"\"\n",
    "        temp = []\n",
    "        for key_val in dict1.items():\n",
    "            temp.append(key_val)\n",
    "        return sorted(temp)\n",
    "\n",
    "except Exception as e:\n",
    "    print(e)"
   ]
  },
  {
   "cell_type": "markdown",
   "id": "d8aba101",
   "metadata": {},
   "source": [
    "##### Q-3. Write a function that creates a dictionary with each (key, value) pair being the (lower case, upper case) versions of a letter, respectively."
   ]
  },
  {
   "cell_type": "code",
   "execution_count": 50,
   "id": "2e3a7cd7",
   "metadata": {},
   "outputs": [],
   "source": [
    "try:\n",
    "    def Mapping(sample):\n",
    "        \"\"\"This function creates a dictionary with value in upper case\"\"\"\n",
    "        result=dict((i,i.upper()) for i in sample)\n",
    "        return result\n",
    "except Exception as e:\n",
    "    print(e)\n",
    "    \n",
    "Mapping([\"a\",\"b\",\"c\",\"d\",\"y\",\"z\",\"s\",\"u\"])"
   ]
  },
  {
   "cell_type": "markdown",
   "id": "ac86c93b",
   "metadata": {},
   "source": [
    "##### Q-4. Write a function, that replaces all vowels in a string with a specified vowel."
   ]
  },
  {
   "cell_type": "code",
   "execution_count": 90,
   "id": "d2d39dc5",
   "metadata": {},
   "outputs": [],
   "source": [
    "try:\n",
    "    def vow_replace(words, vowel):\n",
    "        \n",
    "        vowels = \"AEIOUaeiou\"\n",
    "        for i in vowels:\n",
    "                words = words.replace(i,vowel)\n",
    "        return words\n",
    "except Exception as e:\n",
    "    print(e)\n",
    "\n",
    "vow_replace(\"apples and banana\", \"u\")"
   ]
  },
  {
   "cell_type": "markdown",
   "id": "22d102d8",
   "metadata": {},
   "source": [
    "##### Q-5. Create a function that takes a string as input and capitalizes a letter if its ASCII code is even and returns its lower case version if its ASCII code is odd."
   ]
  },
  {
   "cell_type": "code",
   "execution_count": 104,
   "id": "2acd4635",
   "metadata": {},
   "outputs": [],
   "source": [
    "try:\n",
    "    def ascii_capitalize(word):\n",
    "        result = []\n",
    "        for i in range(len(word)):\n",
    "            if i%2 ==0:\n",
    "                result.append(word[i].upper())\n",
    "            else:\n",
    "                result.append(word[i].lower())\n",
    "        return \"\".join(result)\n",
    "                \n",
    "except Exception as e:\n",
    "    print(e)\n",
    "    \n",
    "ascii_capitalize(\"THE LITTLE MERMAID\")"
   ]
  },
  {
   "cell_type": "code",
   "execution_count": null,
   "id": "6020776b",
   "metadata": {},
   "outputs": [],
   "source": []
  }
 ],
 "metadata": {
  "kernelspec": {
   "display_name": "Python 3 (ipykernel)",
   "language": "python",
   "name": "python3"
  },
  "language_info": {
   "codemirror_mode": {
    "name": "ipython",
    "version": 3
   },
   "file_extension": ".py",
   "mimetype": "text/x-python",
   "name": "python",
   "nbconvert_exporter": "python",
   "pygments_lexer": "ipython3",
   "version": "3.9.7"
  }
 },
 "nbformat": 4,
 "nbformat_minor": 5
}
