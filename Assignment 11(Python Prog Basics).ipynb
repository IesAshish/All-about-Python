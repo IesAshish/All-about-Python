{
 "cells": [
  {
   "cell_type": "code",
   "execution_count": null,
   "id": "5a787a5c",
   "metadata": {},
   "outputs": [],
   "source": [
    "1. Write a Python program to find words which are greater than given length k?\n",
    "2. Write a Python program for removing i-th character from a string?\n",
    "3. Write a Python program to split and join a string?\n",
    "4. Write a Python to check if a given string is binary string or not?\n",
    "5. Write a Python program to find uncommon words from two Strings?\n",
    "6. Write a Python to find all duplicate characters in string?\n"
   ]
  },
  {
   "cell_type": "markdown",
   "id": "fbd6034e",
   "metadata": {},
   "source": [
    "##### 1. Write a Python program to find words which are greater than given length k?"
   ]
  },
  {
   "cell_type": "code",
   "execution_count": 3,
   "id": "4c377003",
   "metadata": {},
   "outputs": [],
   "source": [
    "def word(k):\n",
    "    \"\"\"This function return the words which are greater than given length k\"\"\"\n",
    "    sentence=input(\"Enter Your Sentence: \")\n",
    "    temp = sentence.split()\n",
    "    try:\n",
    "        for i in temp:\n",
    "            if len(i)>k:\n",
    "                return i\n",
    "            else:       \n",
    "                return \"There is no word of length k\"\n",
    "    except Exception as e:\n",
    "        print(e)\n",
    "    "
   ]
  },
  {
   "cell_type": "markdown",
   "id": "24727757",
   "metadata": {},
   "source": [
    "##### 2. Write a Python program for removing i-th character from a string?"
   ]
  },
  {
   "cell_type": "code",
   "execution_count": 37,
   "id": "1e98c33e",
   "metadata": {},
   "outputs": [],
   "source": [
    "\n",
    "def remove_str(word,i):\n",
    "    \"\"\"This function removes the ith character from a string\"\"\"\n",
    "    new_word = word[:i-1]+word[i:]\n",
    "    return new_word\n",
    "\n",
    "remove_str(\"Hello! Python please help me \", 16)"
   ]
  },
  {
   "cell_type": "markdown",
   "id": "37db71f7",
   "metadata": {},
   "source": [
    "##### 3. Write a Python program to split and join a string?"
   ]
  },
  {
   "cell_type": "code",
   "execution_count": 66,
   "id": "236eccba",
   "metadata": {},
   "outputs": [
    {
     "name": "stdout",
     "output_type": "stream",
     "text": [
      "['Hello', 'Python', 'How', 'are', 'You?']\n",
      "Hello-Python-How-are-You?\n"
     ]
    }
   ],
   "source": [
    "def split_str(word):\n",
    "    word_1 = word.split(\" \")\n",
    "    return word_1\n",
    "def join_str(word_1):\n",
    "    word_2 = \"-\".join(word_1)\n",
    "    return word_2\n",
    "result_1 = split_str('Hello Python How are You?')\n",
    "result_2 = join_str(result_1)\n",
    "print(result_1)\n",
    "print(result_2)"
   ]
  },
  {
   "cell_type": "markdown",
   "id": "ef2b3c9b",
   "metadata": {},
   "source": [
    "##### 4. Write a Python to check if a given string is binary string or not?"
   ]
  },
  {
   "cell_type": "code",
   "execution_count": 9,
   "id": "f08b94ba",
   "metadata": {},
   "outputs": [],
   "source": [
    "def set_string(a):\n",
    "    \"\"\"This function returns whether a string is binary or not\"\"\"\n",
    "    b=set(a)\n",
    "    temp = {\"0\",\"1\"}\n",
    "    try:\n",
    "        if temp==b or b=={\"0\"} or b=={\"1\"}:\n",
    "            return \"It is binary\"\n",
    "        else:\n",
    "            return \"It is not binary\"\n",
    "    except Exception as e:\n",
    "        print(e)\n"
   ]
  },
  {
   "cell_type": "markdown",
   "id": "7b82755e",
   "metadata": {},
   "source": [
    "##### 5. Write a Python program to find uncommon words from two Strings?\n",
    "* A word is uncommon only if it appears exactly once in any one of the given strings, and does not appear in the other string."
   ]
  },
  {
   "cell_type": "code",
   "execution_count": 24,
   "id": "61a1d071",
   "metadata": {},
   "outputs": [],
   "source": [
    "def uncommon_words(a,b):\n",
    "    words_a=a.split()\n",
    "    words_b=b.split()\n",
    "    uncommon = \" \"\n",
    "    try:\n",
    "        for i in words_a:\n",
    "            if i not in words_b:\n",
    "                uncommon = uncommon +\" \"+i   # if we do not inlcude \" \", then all string will join together w/o any spaces\n",
    "        for j in words_b:\n",
    "            if j not in words_a:\n",
    "                uncommon = uncommon +\" \"+j\n",
    "        return uncommon\n",
    "    except Exception as e:\n",
    "    print(e)"
   ]
  },
  {
   "cell_type": "markdown",
   "id": "751f6aef",
   "metadata": {},
   "source": [
    "##### 6. Write a Python to find all duplicate characters in string?"
   ]
  },
  {
   "cell_type": "code",
   "execution_count": 46,
   "id": "4b6cde96",
   "metadata": {},
   "outputs": [],
   "source": [
    "def duplicate_char(a):\n",
    "    words = a.split()\n",
    "    non_duplicate=dict.fromkeys(words) # keys can't be duplicate but values can be\n",
    "    print(\" \".join(non_duplicate))"
   ]
  },
  {
   "cell_type": "markdown",
   "id": "79645591",
   "metadata": {},
   "source": [
    "##### 7. Write a Python Program to check if a string contains any special character?"
   ]
  },
  {
   "cell_type": "code",
   "execution_count": 53,
   "id": "231e75d6",
   "metadata": {},
   "outputs": [],
   "source": [
    "import re\n",
    "def spec_char(string):\n",
    "    char= re.compile(r\"[@ _ ! # $ % ^ & * ( ) < > ? / \\ | { } ~ :]\")\n",
    "    try:\n",
    "        if char.search(string)==None:\n",
    "            return \"string is accepted\"\n",
    "        else:\n",
    "            return \"string not accepted\"\n",
    "    except Exception as e:\n",
    "        print(e)"
   ]
  },
  {
   "cell_type": "code",
   "execution_count": null,
   "id": "159e0bf5",
   "metadata": {},
   "outputs": [],
   "source": []
  }
 ],
 "metadata": {
  "kernelspec": {
   "display_name": "Python 3 (ipykernel)",
   "language": "python",
   "name": "python3"
  },
  "language_info": {
   "codemirror_mode": {
    "name": "ipython",
    "version": 3
   },
   "file_extension": ".py",
   "mimetype": "text/x-python",
   "name": "python",
   "nbconvert_exporter": "python",
   "pygments_lexer": "ipython3",
   "version": "3.9.7"
  }
 },
 "nbformat": 4,
 "nbformat_minor": 5
}
