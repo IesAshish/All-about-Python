{
 "cells": [
  {
   "cell_type": "markdown",
   "id": "07c25a8a",
   "metadata": {},
   "source": [
    "##### Q-1. Define a class with a generator which can iterate the numbers, which are divisible by 7, between a given range 0 and n."
   ]
  },
  {
   "cell_type": "code",
   "execution_count": 47,
   "id": "c9c5109b",
   "metadata": {},
   "outputs": [
    {
     "name": "stdout",
     "output_type": "stream",
     "text": [
      "Enter Your Number: 100\n",
      "0\n",
      "7\n",
      "14\n",
      "21\n",
      "28\n",
      "35\n",
      "42\n",
      "49\n",
      "56\n",
      "63\n",
      "70\n",
      "77\n",
      "84\n",
      "91\n",
      "98\n"
     ]
    }
   ],
   "source": [
    "class divisible:\n",
    "    def __init__(self,num):\n",
    "        self.num =num\n",
    "    def divisible_by_7(self):\n",
    "        for i in range(0,self.num+1):\n",
    "            if i%7==0:\n",
    "                yield i\n",
    "num = int(input(\"Enter Your Number: \"))\n",
    "obj = divisible(num)\n",
    "for i in obj.divisible_by_7():\n",
    "    print(i)"
   ]
  },
  {
   "cell_type": "markdown",
   "id": "8715237a",
   "metadata": {},
   "source": [
    "##### Q-2. Write a program to compute the frequency of the words from the input. The output should output after sorting the key alphanumerically."
   ]
  },
  {
   "cell_type": "code",
   "execution_count": 82,
   "id": "4965b0ba",
   "metadata": {},
   "outputs": [
    {
     "name": "stdout",
     "output_type": "stream",
     "text": [
      "Enter your Sentence: New to Python or choosing between Python 2 and Python 3? Read Python 2 or Python 3\n",
      "2 : 2\n",
      "3 : 1\n",
      "3? : 1\n",
      "New : 1\n",
      "Python : 5\n",
      "Read : 1\n",
      "and : 1\n",
      "between : 1\n",
      "choosing : 1\n",
      "or : 2\n",
      "to : 1\n"
     ]
    }
   ],
   "source": [
    "sentence = input(\"Enter your Sentence: \")\n",
    "word_list = sentence.split(\" \")\n",
    "word_list.sort()\n",
    "word_dict = {}\n",
    "for i in word_list:\n",
    "    word_dict[i] = word_list.count(i)\n",
    "for i in word_dict:\n",
    "    print(i,\":\",word_dict[i])"
   ]
  },
  {
   "cell_type": "markdown",
   "id": "0f645f23",
   "metadata": {},
   "source": [
    "##### Q-3. Define a class Person and its two child classes: Male and Female. All classes have a method \"getGender\" which can print \"Male\" for Male class and \"Female\" for Female class."
   ]
  },
  {
   "cell_type": "code",
   "execution_count": 90,
   "id": "0be25d14",
   "metadata": {},
   "outputs": [],
   "source": [
    "class Person:\n",
    "    def __init__(self,gender):\n",
    "        self.gender= gender\n",
    "    def getGender(self):\n",
    "        return self.gender\n",
    "class Male(Person):\n",
    "    def __init__(self):\n",
    "        self.gender = \"Male\"\n",
    "        super().__init__(self.gender)\n",
    "    def getGender(self):\n",
    "        return super().getGender()\n",
    "class Female(Person):\n",
    "    def __init__(self):\n",
    "        self.gender = \"Female\"\n",
    "        super().__init__(self.gender)\n",
    "    def getGender(self):\n",
    "        return super().getGender()\n",
    "        "
   ]
  },
  {
   "cell_type": "code",
   "execution_count": 93,
   "id": "f55e6a75",
   "metadata": {},
   "outputs": [
    {
     "name": "stdout",
     "output_type": "stream",
     "text": [
      "Male\n",
      "Female\n"
     ]
    }
   ],
   "source": [
    "obj = Male()\n",
    "print(obj.getGender())\n",
    "obj1=Female()\n",
    "print(obj1.getGender())"
   ]
  },
  {
   "cell_type": "markdown",
   "id": "07bcf28f",
   "metadata": {},
   "source": [
    "##### Q-4. Please write a program to generate all sentences where subject is in [\"I\", \"You\"] and verb is in [\"Play\", \"Love\"] and the object is in [\"Hockey\",\"Football\"]."
   ]
  },
  {
   "cell_type": "code",
   "execution_count": 95,
   "id": "aa0091e4",
   "metadata": {},
   "outputs": [],
   "source": [
    "def sentence():\n",
    "    temp=[]\n",
    "    subject = [\"I\",\"You\"]\n",
    "    verb = [\"Play\", \"Love\"]\n",
    "    object = [\"Hockey\",\"Football\"]\n",
    "    for i in subject:\n",
    "        for j in verb:\n",
    "            for k in object:\n",
    "                temp.append(\" \".join([i,j,k]))\n",
    "    return temp"
   ]
  },
  {
   "cell_type": "code",
   "execution_count": 96,
   "id": "2c30ee46",
   "metadata": {},
   "outputs": [
    {
     "data": {
      "text/plain": [
       "['I Play Hockey',\n",
       " 'I Play Football',\n",
       " 'I Love Hockey',\n",
       " 'I Love Football',\n",
       " 'You Play Hockey',\n",
       " 'You Play Football',\n",
       " 'You Love Hockey',\n",
       " 'You Love Football']"
      ]
     },
     "execution_count": 96,
     "metadata": {},
     "output_type": "execute_result"
    }
   ],
   "source": [
    "sentence()"
   ]
  },
  {
   "cell_type": "markdown",
   "id": "8cafb00b",
   "metadata": {},
   "source": [
    "##### Q-5. Please write a program to compress and decompress the string \"hello world!hello world!hello world!hello world!\".\n"
   ]
  },
  {
   "cell_type": "code",
   "execution_count": 26,
   "id": "ed3248c8",
   "metadata": {},
   "outputs": [],
   "source": [
    "def compress(word):\n",
    "    index = word[0]\n",
    "    compressed = \"\"\n",
    "    word = word + \" \"   # To include the last character i.e why we include \" \" ow it will not consider it \n",
    "    count = 0     # Intitially it is 0\n",
    "    for i in word:\n",
    "        if i == index: # if ith char equal the first char then it will increment the count\n",
    "            count +=1\n",
    "        else:          # if not then we just update compressed \n",
    "            compressed = compressed +str(index)+str(count)\n",
    "            index = i   # here we assign the index to the next char\n",
    "            count = 1\n",
    "    return compressed\n",
    "\n",
    "def decompress(word):\n",
    "    decompress=''\n",
    "    for i in range(len(word)):\n",
    "        if word[i].isdigit():\n",
    "            decompress = decompress + word[i-1]*(int(word[i])-1)\n",
    "        else:\n",
    "            decompress = decompress + word[i]\n",
    "    return decompress"
   ]
  },
  {
   "cell_type": "code",
   "execution_count": 28,
   "id": "b2cd7726",
   "metadata": {},
   "outputs": [
    {
     "data": {
      "text/plain": [
       "'h1e1l2o1 1w1o1r1l1d1!1h1e1l2o1 1w1o1r1l1d1!1h1e1l2o1 1w1o1r1l1d1!1h1e1l2o1 1w1o1r1l1d1'"
      ]
     },
     "execution_count": 28,
     "metadata": {},
     "output_type": "execute_result"
    }
   ],
   "source": [
    "compress(\"hello world!hello world!hello world!hello world\")"
   ]
  },
  {
   "cell_type": "code",
   "execution_count": 27,
   "id": "fbc75421",
   "metadata": {},
   "outputs": [
    {
     "data": {
      "text/plain": [
       "'hello world!hello world!hello world!hello world!'"
      ]
     },
     "execution_count": 27,
     "metadata": {},
     "output_type": "execute_result"
    }
   ],
   "source": [
    "decompress('h1e1l2o1 1w1o1r1l1d1!1h1e1l2o1 1w1o1r1l1d1!1h1e1l2o1 1w1o1r1l1d1!1h1e1l2o1 1w1o1r1l1d1!1')"
   ]
  },
  {
   "cell_type": "markdown",
   "id": "8ea72f42",
   "metadata": {},
   "source": [
    "##### Q-6. Please write a binary search function which searches an item in a sorted list. The function should return the index of element to be searched in the list."
   ]
  },
  {
   "cell_type": "code",
   "execution_count": 103,
   "id": "2725ed24",
   "metadata": {},
   "outputs": [],
   "source": [
    "def binary_search(lis,element):\n",
    "    lis.sort()\n",
    "    low =0\n",
    "    high = len(lis)-1\n",
    "    while low<=high:\n",
    "        mid = (high+low)//2\n",
    "        if element == lis[mid]:\n",
    "            return mid\n",
    "        elif element<lis[mid]:\n",
    "            high = mid -1 \n",
    "        elif element >lis[mid]:\n",
    "            low = mid +1\n",
    "    return False"
   ]
  },
  {
   "cell_type": "code",
   "execution_count": 5,
   "id": "34456508",
   "metadata": {},
   "outputs": [
    {
     "data": {
      "text/plain": [
       "[0, 1, 2, 3, 4]"
      ]
     },
     "execution_count": 5,
     "metadata": {},
     "output_type": "execute_result"
    }
   ],
   "source": [
    "list(range(len(a)-1))"
   ]
  },
  {
   "cell_type": "code",
   "execution_count": 105,
   "id": "728a416c",
   "metadata": {},
   "outputs": [
    {
     "data": {
      "text/plain": [
       "14"
      ]
     },
     "execution_count": 105,
     "metadata": {},
     "output_type": "execute_result"
    }
   ],
   "source": [
    "binary_search([13,24,37,39,58,67,70,75,72,83,87,89,91,95,99],99)"
   ]
  }
 ],
 "metadata": {
  "kernelspec": {
   "display_name": "Python 3 (ipykernel)",
   "language": "python",
   "name": "python3"
  },
  "language_info": {
   "codemirror_mode": {
    "name": "ipython",
    "version": 3
   },
   "file_extension": ".py",
   "mimetype": "text/x-python",
   "name": "python",
   "nbconvert_exporter": "python",
   "pygments_lexer": "ipython3",
   "version": "3.9.7"
  }
 },
 "nbformat": 4,
 "nbformat_minor": 5
}
