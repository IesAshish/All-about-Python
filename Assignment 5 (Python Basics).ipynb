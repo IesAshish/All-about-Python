{
 "cells": [
  {
   "cell_type": "code",
   "execution_count": null,
   "id": "77702fe9",
   "metadata": {},
   "outputs": [],
   "source": [
    "1.What does an empty dictionary's code look like?\n",
    "Empty dictionary have no elements inside it and it is shown by two curly bracket i.e. {}"
   ]
  },
  {
   "cell_type": "code",
   "execution_count": null,
   "id": "5d990db1",
   "metadata": {},
   "outputs": [],
   "source": [
    "2. What is the value of a dictionary value with the key \"foo\" and the value 42?\n",
    "a = {\"foo\":42}"
   ]
  },
  {
   "cell_type": "code",
   "execution_count": null,
   "id": "9f75df85",
   "metadata": {},
   "outputs": [],
   "source": [
    "3. What is the most significant distinction between a dictionary and a list?\n",
    "List allows duplicate elements whereas dictionary does not allow duplicate elements as well as duplicate keys"
   ]
  },
  {
   "cell_type": "code",
   "execution_count": null,
   "id": "626b2788",
   "metadata": {},
   "outputs": [],
   "source": [
    "4. What happens if you try to access spam[\"foo\"] if spam is {\"bar\": 100}?\n",
    "As there is no \"foo\" key in spam dictionary so when we try to retrieve it, it shows keyError."
   ]
  },
  {
   "cell_type": "code",
   "execution_count": null,
   "id": "fe2f3fe8",
   "metadata": {},
   "outputs": [],
   "source": [
    "5. If a dictionary is stored in spam, what is the difference between the expressions \"cat\" in spam and\n",
    "\"cat\" in spam.keys()?\n",
    "in operator checks whether a value as a key is available in the dictionary. Therefore \"cat\" in spam and \"cat\" in spam.keys() gives us the same output i.e. False, hence there is no difference"
   ]
  },
  {
   "cell_type": "code",
   "execution_count": null,
   "id": "3b17cd28",
   "metadata": {},
   "outputs": [],
   "source": [
    "6. If a dictionary is stored in spam, what is the difference between the expressions \"cat\" in spam and\n",
    "\"cat\" in spam.values()?\n",
    "'cat' in spam checks whether there is a 'cat' key in the dictionary, while 'cat' in spam.values() checks whether there is a value 'cat' for one of the keys in spam."
   ]
  },
  {
   "cell_type": "code",
   "execution_count": null,
   "id": "8af12bff",
   "metadata": {},
   "outputs": [],
   "source": [
    "7. What is a shortcut for the following code?\n",
    "if \"color\" not in spam:\n",
    "spam[\"color\"] = \"black\"\n",
    "spam.setdefault(\"color\",\"black\")"
   ]
  },
  {
   "cell_type": "code",
   "execution_count": null,
   "id": "7d48c1bb",
   "metadata": {},
   "outputs": [],
   "source": [
    "8. How do you \"pretty print\" dictionary values using which module and function?\n",
    "For \"pretty print\" dictionary values we need to import pprint module and then use pprint.pprint()"
   ]
  }
 ],
 "metadata": {
  "kernelspec": {
   "display_name": "Python 3 (ipykernel)",
   "language": "python",
   "name": "python3"
  },
  "language_info": {
   "codemirror_mode": {
    "name": "ipython",
    "version": 3
   },
   "file_extension": ".py",
   "mimetype": "text/x-python",
   "name": "python",
   "nbconvert_exporter": "python",
   "pygments_lexer": "ipython3",
   "version": "3.9.7"
  }
 },
 "nbformat": 4,
 "nbformat_minor": 5
}
