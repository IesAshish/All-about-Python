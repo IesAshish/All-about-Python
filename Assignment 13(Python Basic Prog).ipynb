{
 "cells": [
  {
   "cell_type": "markdown",
   "id": "7565632c",
   "metadata": {},
   "source": [
    "##### Q-1. Write a program that calculates and prints the value according to the given formula:\n",
    "##### Q = Square root of [(2 * C * D)/H]\n",
    "##### Following are the fixed values of C and H:\n",
    "##### C is 50. H is 30.\n",
    "##### D is the variable whose values should be input to your program in a comma-separated sequence."
   ]
  },
  {
   "cell_type": "code",
   "execution_count": 12,
   "id": "85e0f2e5",
   "metadata": {},
   "outputs": [],
   "source": [
    "import math\n",
    "def calculate():\n",
    "    C = 50\n",
    "    H = 30\n",
    "    D = list(map(int,input(\"Enter the series of number: \").split(\",\")))        \n",
    "    Q = list(map(lambda x: int(math.sqrt((2*C*x)/H)),D))\n",
    "    print(*Q, sep=\",\")\n",
    "    return Q"
   ]
  },
  {
   "cell_type": "code",
   "execution_count": 13,
   "id": "8c197d0d",
   "metadata": {},
   "outputs": [
    {
     "name": "stdout",
     "output_type": "stream",
     "text": [
      "Enter the series of number: 100,20,30\n",
      "18,8,10\n"
     ]
    },
    {
     "data": {
      "text/plain": [
       "[18, 8, 10]"
      ]
     },
     "execution_count": 13,
     "metadata": {},
     "output_type": "execute_result"
    }
   ],
   "source": [
    "calculate()"
   ]
  },
  {
   "cell_type": "markdown",
   "id": "2654791a",
   "metadata": {},
   "source": [
    "##### Q-2. Write a program which takes 2 digits, X,Y as input and generates a 2-dimensional array. The element value in the i-th row and j-th column of the array should be i*j.\n",
    "Note: i=0,1.., X-1; j=0,1,¡Y-1."
   ]
  },
  {
   "cell_type": "code",
   "execution_count": 14,
   "id": "f3a91e03",
   "metadata": {},
   "outputs": [
    {
     "data": {
      "text/plain": [
       "matrix([[0, 0, 0, 0, 0],\n",
       "        [0, 1, 2, 3, 4],\n",
       "        [0, 2, 4, 6, 8]])"
      ]
     },
     "execution_count": 14,
     "metadata": {},
     "output_type": "execute_result"
    }
   ],
   "source": [
    "import numpy as np\n",
    "np.mat(np.fromfunction(lambda i,j:i*j,(3,5),dtype=int))"
   ]
  },
  {
   "cell_type": "markdown",
   "id": "cfbf2fa7",
   "metadata": {},
   "source": [
    "##### Q-3. Write a program that accepts a comma separated sequence of words as input and prints the words in a comma-separated sequence after sorting them alphabetically."
   ]
  },
  {
   "cell_type": "code",
   "execution_count": 21,
   "id": "a6741036",
   "metadata": {},
   "outputs": [],
   "source": [
    "def word_sort():\n",
    "    words = [i for i in input(\"Enter words: \").split(\",\")]\n",
    "    words.sort()\n",
    "    result = \",\".join(words)\n",
    "    return result"
   ]
  },
  {
   "cell_type": "code",
   "execution_count": 22,
   "id": "59a08ea1",
   "metadata": {},
   "outputs": [
    {
     "name": "stdout",
     "output_type": "stream",
     "text": [
      "Enter words: viper, python, anaconda, cobra, tiger, lion, monkey\n"
     ]
    },
    {
     "data": {
      "text/plain": [
       "' anaconda, cobra, lion, monkey, python, tiger,viper'"
      ]
     },
     "execution_count": 22,
     "metadata": {},
     "output_type": "execute_result"
    }
   ],
   "source": [
    "word_sort()"
   ]
  },
  {
   "cell_type": "markdown",
   "id": "9f47d844",
   "metadata": {},
   "source": [
    "##### Q-4. Write a program that accepts a sequence of whitespace separated words as input and prints the words after removing all duplicate words and sorting them alphanumerically."
   ]
  },
  {
   "cell_type": "code",
   "execution_count": 27,
   "id": "6796f29d",
   "metadata": {},
   "outputs": [],
   "source": [
    "def sieve_of_words():\n",
    "    words=[x for x in input(\"Enter Words: \").split(\" \")]\n",
    "    words = list(set(words))\n",
    "    words.sort()\n",
    "    sorted_words = \" \".join(words)\n",
    "    \n",
    "    return sorted_words\n",
    "    "
   ]
  },
  {
   "cell_type": "code",
   "execution_count": 28,
   "id": "f18051a1",
   "metadata": {},
   "outputs": [
    {
     "name": "stdout",
     "output_type": "stream",
     "text": [
      "Enter Words: hello world and practice makes perfect and hello world again\n"
     ]
    },
    {
     "data": {
      "text/plain": [
       "'again and hello makes perfect practice world'"
      ]
     },
     "execution_count": 28,
     "metadata": {},
     "output_type": "execute_result"
    }
   ],
   "source": [
    "sieve_of_words()"
   ]
  },
  {
   "cell_type": "markdown",
   "id": "c00561d1",
   "metadata": {},
   "source": [
    "##### Q-5. Write a program that accepts a sentence and calculate the number of letters and digits."
   ]
  },
  {
   "cell_type": "code",
   "execution_count": 29,
   "id": "3571acee",
   "metadata": {},
   "outputs": [],
   "source": [
    "def lett_dig_count():\n",
    "    sentence = input(\"Enter Your Sentence: \")\n",
    "    letter = 0 \n",
    "    digit  = 0\n",
    "    for i in sentence:\n",
    "        if i.isalpha():\n",
    "            letter+=1\n",
    "        elif i.isdigit():\n",
    "            digit +=1\n",
    "        else:\n",
    "            continue\n",
    "    print(\"NO. OF LETTER: \",letter)\n",
    "    print(\"NO. OF DIGIT: \",digit)\n",
    "    return letter, digit"
   ]
  },
  {
   "cell_type": "code",
   "execution_count": 30,
   "id": "9e52af69",
   "metadata": {},
   "outputs": [
    {
     "name": "stdout",
     "output_type": "stream",
     "text": [
      "Enter Your Sentence: my phone number is 9871464474\n",
      "NO. OF LETTER:  15\n",
      "NO. OF DIGIT:  10\n"
     ]
    },
    {
     "data": {
      "text/plain": [
       "(15, 10)"
      ]
     },
     "execution_count": 30,
     "metadata": {},
     "output_type": "execute_result"
    }
   ],
   "source": [
    "lett_dig_count()"
   ]
  },
  {
   "cell_type": "markdown",
   "id": "b6194fa0",
   "metadata": {},
   "source": [
    "##### Q-6. A website requires the users to input username and password to register. Write a program to check the validity of password input by users.\n",
    "\n",
    "Following are the criteria for checking the password:\n",
    "1. At least 1 letter between [a-z]\n",
    "2. At least 1 number between [0-9]\n",
    "1. At least 1 letter between [A-Z]\n",
    "3. At least 1 character from [$#@]\n",
    "4. Minimum length of transaction password: 6\n",
    "5. Maximum length of transaction password: 12\n",
    "Your program should accept a sequence of comma separated passwords and will check them\n",
    "according to the above criteria. Passwords that match the criteria are to be printed, each\n",
    "separated by a comma."
   ]
  },
  {
   "cell_type": "code",
   "execution_count": 36,
   "id": "1a351355",
   "metadata": {},
   "outputs": [],
   "source": [
    "import re\n",
    "def password_check(password):\n",
    "    flag = 0\n",
    "    while True:\n",
    "        if len(password)<=6 or len(password)>=12:\n",
    "            flag =0\n",
    "            break\n",
    "        elif not re.search(r'[a-z]',password):\n",
    "            flag = 0\n",
    "            break\n",
    "        elif not re.search(r\"[0-9]\",password):\n",
    "            flag = 0\n",
    "            break\n",
    "        elif not re.search(r\"[A-Z]\",password):\n",
    "            flag = 0\n",
    "            break\n",
    "        elif not re.search('[$#@]', password):\n",
    "            flag = 0\n",
    "            break\n",
    "        else:\n",
    "            flag = 1\n",
    "            break\n",
    "    if flag == 1:\n",
    "        return password\n",
    "\n",
    "def password():\n",
    "    passw = list(map(str, input(\"Enter your passwords in comma-seperated sequence: \").split(\",\")))\n",
    "    valid_password = list(filter(password_check,passw))\n",
    "    print(\"\\nVALID PASSWORDS:\")\n",
    "    print(*valid_password, sep=\", \")\n",
    "        \n",
    "        \n",
    "            "
   ]
  },
  {
   "cell_type": "code",
   "execution_count": 37,
   "id": "4a399e28",
   "metadata": {},
   "outputs": [
    {
     "name": "stdout",
     "output_type": "stream",
     "text": [
      "Enter your passwords in comma-seperated sequence: ABd1234@1,a F1#,2w3E*,2We3345,Aaaa#123\n",
      "\n",
      "VALID PASSWORDS:\n",
      "ABd1234@1, Aaaa#123\n"
     ]
    }
   ],
   "source": [
    "password()"
   ]
  },
  {
   "cell_type": "code",
   "execution_count": null,
   "id": "03ea15da",
   "metadata": {},
   "outputs": [],
   "source": []
  }
 ],
 "metadata": {
  "kernelspec": {
   "display_name": "Python 3 (ipykernel)",
   "language": "python",
   "name": "python3"
  },
  "language_info": {
   "codemirror_mode": {
    "name": "ipython",
    "version": 3
   },
   "file_extension": ".py",
   "mimetype": "text/x-python",
   "name": "python",
   "nbconvert_exporter": "python",
   "pygments_lexer": "ipython3",
   "version": "3.9.7"
  }
 },
 "nbformat": 4,
 "nbformat_minor": 5
}
