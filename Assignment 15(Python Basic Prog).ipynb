{
 "cells": [
  {
   "cell_type": "markdown",
   "id": "8add5519",
   "metadata": {},
   "source": [
    "##### Q-1. Please write a program using generator to print the numbers which can be divisible by 5 and 7 between 0 and n in comma separated form while n is input by console."
   ]
  },
  {
   "cell_type": "code",
   "execution_count": 8,
   "id": "790830f9",
   "metadata": {},
   "outputs": [
    {
     "name": "stdout",
     "output_type": "stream",
     "text": [
      "Enter a number: 100\n",
      "0,35,70\n"
     ]
    }
   ],
   "source": [
    "def divisible(n):\n",
    "    try:\n",
    "        for i in range(0,n+1):\n",
    "            if i%5 == 0 and i%7 == 0:\n",
    "                yield i\n",
    "    except Exception as e:\n",
    "        print(e)\n",
    "n = int(input(\"Enter a number: \"))\n",
    "l=[]\n",
    "for i in divisible(n):\n",
    "    l.append(i)\n",
    "print(*l,sep = \",\")"
   ]
  },
  {
   "cell_type": "markdown",
   "id": "c0a0d4d6",
   "metadata": {},
   "source": [
    "##### Q-2. Please write a program using generator to print the even numbers between 0 and n in comma separated form while n is input by console."
   ]
  },
  {
   "cell_type": "code",
   "execution_count": 10,
   "id": "e36eb510",
   "metadata": {},
   "outputs": [
    {
     "name": "stdout",
     "output_type": "stream",
     "text": [
      "Enter a Number: 100\n",
      "0,2,4,6,8,10,12,14,16,18,20,22,24,26,28,30,32,34,36,38,40,42,44,46,48,50,52,54,56,58,60,62,64,66,68,70,72,74,76,78,80,82,84,86,88,90,92,94,96,98,100\n"
     ]
    }
   ],
   "source": [
    "def even_no(n):\n",
    "    for num in range(0,n+1):\n",
    "        if num%2==0:\n",
    "            yield num\n",
    "n = int(input(\"Enter a Number: \"))\n",
    "l=[]\n",
    "for num in even_no(n):\n",
    "    l.append(num)\n",
    "print(*l,sep=\",\")"
   ]
  },
  {
   "cell_type": "markdown",
   "id": "a84d07aa",
   "metadata": {},
   "source": [
    "##### Q-3. The Fibonacci Sequence is computed based on the following formula:\n",
    "f(n)=0 if n=0\n",
    "\n",
    "f(n)=1 if n=1\n",
    "\n",
    "f(n)=f(n-1)+f(n-2) if n>1\n",
    "\n",
    "Please write a program using list comprehension to print the Fibonacci Sequence in comma\n",
    "separated form with a given n input by console."
   ]
  },
  {
   "cell_type": "code",
   "execution_count": 12,
   "id": "bedd7b79",
   "metadata": {},
   "outputs": [
    {
     "name": "stdout",
     "output_type": "stream",
     "text": [
      "Enter a number: 7\n",
      "0,1,1,2,3,5,8,13\n"
     ]
    }
   ],
   "source": [
    "n = int(input(\"Enter a number: \"))\n",
    "febo = [0,1]\n",
    "[febo.append(febo[-1]+febo[-2]) for i in range(n-1)]\n",
    "print(*febo,sep=\",\")\n"
   ]
  },
  {
   "cell_type": "markdown",
   "id": "fa34d6ca",
   "metadata": {},
   "source": [
    "##### Q-4. Assuming that we have some email addresses in the \"username@companyname.com\" format, please write program to print the user name of a given email address. Both user names and company names are composed of letters only."
   ]
  },
  {
   "cell_type": "code",
   "execution_count": 26,
   "id": "ee1e3416",
   "metadata": {},
   "outputs": [
    {
     "name": "stdout",
     "output_type": "stream",
     "text": [
      "Enter email address: john@google.com\n"
     ]
    },
    {
     "data": {
      "text/plain": [
       "'john'"
      ]
     },
     "execution_count": 26,
     "metadata": {},
     "output_type": "execute_result"
    }
   ],
   "source": [
    "import re\n",
    "n = input(\"Enter email address: \")\n",
    "re.search(r\"[A-Za-z]+\",n).group()"
   ]
  },
  {
   "cell_type": "markdown",
   "id": "f373b538",
   "metadata": {},
   "source": [
    "##### Q-5. Define a class named Shape and its subclass Square. The Square class has an init function which takes a length as argument. Both classes have a area function which can print the area of the shape where Shape's area is 0 by default."
   ]
  },
  {
   "cell_type": "code",
   "execution_count": 35,
   "id": "f95e49dd",
   "metadata": {},
   "outputs": [],
   "source": [
    "class shape:\n",
    "    def area(self):\n",
    "        area = 0\n",
    "        return area\n",
    "class square:\n",
    "    def __init__(self,side):\n",
    "        self.side = side\n",
    "    def area(self):\n",
    "        area = self.side**2\n",
    "        return area\n",
    "    \n",
    "    "
   ]
  },
  {
   "cell_type": "code",
   "execution_count": 30,
   "id": "495d54a8",
   "metadata": {},
   "outputs": [],
   "source": [
    "obj = shape()"
   ]
  },
  {
   "cell_type": "code",
   "execution_count": 32,
   "id": "a950d4b7",
   "metadata": {},
   "outputs": [
    {
     "data": {
      "text/plain": [
       "0"
      ]
     },
     "execution_count": 32,
     "metadata": {},
     "output_type": "execute_result"
    }
   ],
   "source": [
    "obj.area()"
   ]
  },
  {
   "cell_type": "code",
   "execution_count": 36,
   "id": "80d5269d",
   "metadata": {},
   "outputs": [],
   "source": [
    "obj1 = square(10)"
   ]
  },
  {
   "cell_type": "code",
   "execution_count": 37,
   "id": "fa31e3a4",
   "metadata": {},
   "outputs": [
    {
     "data": {
      "text/plain": [
       "100"
      ]
     },
     "execution_count": 37,
     "metadata": {},
     "output_type": "execute_result"
    }
   ],
   "source": [
    "obj1.area()"
   ]
  },
  {
   "cell_type": "code",
   "execution_count": null,
   "id": "1b5a98e2",
   "metadata": {},
   "outputs": [],
   "source": []
  }
 ],
 "metadata": {
  "kernelspec": {
   "display_name": "Python 3 (ipykernel)",
   "language": "python",
   "name": "python3"
  },
  "language_info": {
   "codemirror_mode": {
    "name": "ipython",
    "version": 3
   },
   "file_extension": ".py",
   "mimetype": "text/x-python",
   "name": "python",
   "nbconvert_exporter": "python",
   "pygments_lexer": "ipython3",
   "version": "3.9.7"
  }
 },
 "nbformat": 4,
 "nbformat_minor": 5
}
